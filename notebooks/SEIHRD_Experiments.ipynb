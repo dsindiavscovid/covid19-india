{
 "cells": [
  {
   "cell_type": "markdown",
   "metadata": {},
   "source": [
    "# SEIR model class experiments"
   ]
  },
  {
   "cell_type": "markdown",
   "metadata": {},
   "source": [
    "Utilities for train, forecasting and plotting are now provided in nb_utils.\n",
    "Documentation for the helper functions are available as docstrings.\n",
    "\n",
    "Set the appropriate training parameters and forecast parameters in the \n",
    "corresponding cells.\n",
    "\n",
    "train_eval   \n",
    "> Train and evaluate models (currently we only support SEIR family). \n",
    "  Default configuration parameters for train and test files are \n",
    "  provided as train_config.json and test_config.json respectively.\n",
    "  Search paramters, loss functions etc, are specified in the config\n",
    "  files.\n",
    "\n",
    "forecast, plot\n",
    "> Generate forecasts using a trained model and plotting utilities."
   ]
  },
  {
   "cell_type": "code",
   "execution_count": null,
   "metadata": {},
   "outputs": [],
   "source": [
    "%load_ext autoreload\n",
    "%autoreload 2"
   ]
  },
  {
   "cell_type": "code",
   "execution_count": null,
   "metadata": {},
   "outputs": [],
   "source": [
    "import json\n",
    "import pandas as pd\n",
    "\n",
    "from datetime import datetime, timedelta\n",
    "\n",
    "from nb_utils import train_eval\n",
    "from nb_utils import forecast\n",
    "from nb_utils import plot\n",
    "from nb_utils import plot_m1, plot_m2, plot_m3"
   ]
  },
  {
   "cell_type": "markdown",
   "metadata": {},
   "source": [
    "## Load default configurations"
   ]
  },
  {
   "cell_type": "code",
   "execution_count": null,
   "metadata": {},
   "outputs": [],
   "source": [
    "with open('train_config.json') as f_train, \\\n",
    "    open('test_config.json') as f_test, \\\n",
    "    open('forecast_config.json') as f_forecast:\n",
    "    default_train_config = json.load(f_train)\n",
    "    default_test_config = json.load(f_test)\n",
    "    default_forecast_config = json.load(f_forecast)"
   ]
  },
  {
   "cell_type": "markdown",
   "metadata": {},
   "source": [
    "## Set the model class"
   ]
  },
  {
   "cell_type": "code",
   "execution_count": null,
   "metadata": {},
   "outputs": [],
   "source": [
    "model_class = 'SEIHRD'\n",
    "default_train_config['model_class'] = model_class\n",
    "default_test_config['model_class'] = model_class\n",
    "default_forecast_config['model_class'] = model_class"
   ]
  },
  {
   "cell_type": "markdown",
   "metadata": {},
   "source": [
    "## Optional: Modify training loss function"
   ]
  },
  {
   "cell_type": "code",
   "execution_count": null,
   "metadata": {},
   "outputs": [],
   "source": [
    "variable_and_weights = [('confirmed', 0.25) , ('recovered', 0.25), ('deceased', 0.25), ('hospitalized', 0.25)]\n",
    "weights = {'metric_name' : 'mape', 'variable_weights' : []}\n",
    "for (variable, weight) in variable_and_weights:\n",
    "    weights['variable_weights'].append({\n",
    "        \"variable\" : variable,\n",
    "        \"weight\" : weight\n",
    "    })\n",
    "default_train_config['training_loss_function'].update(weights)"
   ]
  },
  {
   "cell_type": "markdown",
   "metadata": {},
   "source": [
    "## Training parameters"
   ]
  },
  {
   "cell_type": "code",
   "execution_count": null,
   "metadata": {},
   "outputs": [],
   "source": [
    "region = ['bengaluru urban']\n",
    "region_type = 'district'"
   ]
  },
  {
   "cell_type": "code",
   "execution_count": null,
   "metadata": {},
   "outputs": [],
   "source": [
    "#Current day : Last day without the flattening of counts\n",
    "current_day = datetime.now().date() - timedelta(3)\n",
    "\n",
    "# Train1 : 1 week interval starting 2 weeks prior to current day\n",
    "train1_start_date = current_day - timedelta(14)\n",
    "train1_end_date = current_day - timedelta(8)\n",
    "train1_run_day = train1_start_date - timedelta(1)\n",
    "\n",
    "train1_start_date = train1_start_date.strftime(\"%-m/%-d/%y\")\n",
    "train1_end_date = train1_end_date.strftime(\"%-m/%-d/%y\")\n",
    "train1_run_day = train1_run_day.strftime(\"%-m/%-d/%y\")\n",
    "\n",
    "# Train2 : 1 week interval starting 1 week prior to current day\n",
    "train2_start_date = current_day - timedelta(7)\n",
    "train2_end_date = current_day\n",
    "train2_run_day = train2_start_date - timedelta(1)\n",
    "\n",
    "train2_start_date = train2_start_date.strftime(\"%-m/%-d/%y\")\n",
    "train2_end_date = train2_end_date.strftime(\"%-m/%-d/%y\")\n",
    "train2_run_day = train2_run_day.strftime(\"%-m/%-d/%y\")\n",
    "\n",
    "# Test: 1 week interval prior to current day\n",
    "test_start_date = current_day - timedelta(7)\n",
    "test_end_date = current_day\n",
    "test_run_day = test_start_date - timedelta(1)\n",
    "\n",
    "test_start_date = test_start_date.strftime(\"%-m/%-d/%y\")\n",
    "test_end_date = test_end_date.strftime(\"%-m/%-d/%y\")\n",
    "test_run_day = test_run_day.strftime(\"%-m/%-d/%y\")"
   ]
  },
  {
   "cell_type": "markdown",
   "metadata": {},
   "source": [
    "## train_eval on the region of interest"
   ]
  },
  {
   "cell_type": "code",
   "execution_count": null,
   "metadata": {
    "scrolled": false
   },
   "outputs": [],
   "source": [
    "#TODO: Update to run for all regions\n",
    "params, metrics, train1_params, train2_params = train_eval(region, region_type, \n",
    "                                                           train1_start_date, train1_end_date, \n",
    "                                                           train2_start_date, train2_end_date, train2_run_day,\n",
    "                                                           test_start_date, test_end_date,\n",
    "                                                           default_train_config, default_test_config,\n",
    "                                                           max_evals = 10, data_source = 'tracker_district_daily', \n",
    "                                                           mlflow_log = False,\n",
    "                                                           name_prefix = region[0]);"
   ]
  },
  {
   "cell_type": "markdown",
   "metadata": {},
   "source": [
    "## Inspect model parameters"
   ]
  },
  {
   "cell_type": "code",
   "execution_count": null,
   "metadata": {},
   "outputs": [],
   "source": [
    "train1_params"
   ]
  },
  {
   "cell_type": "code",
   "execution_count": null,
   "metadata": {},
   "outputs": [],
   "source": [
    "train2_params"
   ]
  },
  {
   "cell_type": "code",
   "execution_count": null,
   "metadata": {},
   "outputs": [],
   "source": [
    "metrics"
   ]
  },
  {
   "cell_type": "markdown",
   "metadata": {},
   "source": [
    "## Generate Plots"
   ]
  },
  {
   "cell_type": "code",
   "execution_count": null,
   "metadata": {},
   "outputs": [],
   "source": [
    "%matplotlib inline\n",
    "plot_m1(train1_params, train1_run_day, train1_start_date, train1_end_date, \n",
    "        test_run_day, test_start_date, test_end_date, \n",
    "        rolling_average = False, uncertainty = False, \n",
    "        plot_config = 'plot_config.json', plot_name = region[0]+'_m1.png')"
   ]
  },
  {
   "cell_type": "code",
   "execution_count": null,
   "metadata": {},
   "outputs": [],
   "source": [
    "%matplotlib inline\n",
    "plot_m2(train2_params, train1_start_date, train1_end_date, \n",
    "        test_run_day, test_start_date, test_end_date, plot_name = region[0]+'_m2.png')"
   ]
  },
  {
   "cell_type": "code",
   "execution_count": null,
   "metadata": {},
   "outputs": [],
   "source": [
    "%matplotlib inline\n",
    "forecast_start_date = (current_day + timedelta(1)).strftime(\"%-m/%-d/%y\")\n",
    "forecast_length = 30 # Forecast for 30 days\n",
    "plot_m3(train2_params, train1_start_date, \n",
    "        forecast_start_date, forecast_length, plot_name = region[0]+'_m3.png')"
   ]
  },
  {
   "cell_type": "code",
   "execution_count": null,
   "metadata": {},
   "outputs": [],
   "source": []
  }
 ],
 "metadata": {
  "kernelspec": {
   "display_name": "Python 3",
   "language": "python",
   "name": "python3"
  },
  "language_info": {
   "codemirror_mode": {
    "name": "ipython",
    "version": 3
   },
   "file_extension": ".py",
   "mimetype": "text/x-python",
   "name": "python",
   "nbconvert_exporter": "python",
   "pygments_lexer": "ipython3",
   "version": "3.8.3"
  }
 },
 "nbformat": 4,
 "nbformat_minor": 4
}
