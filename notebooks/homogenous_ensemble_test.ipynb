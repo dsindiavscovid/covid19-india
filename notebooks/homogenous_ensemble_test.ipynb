{
 "cells": [
  {
   "cell_type": "code",
   "execution_count": 1,
   "metadata": {},
   "outputs": [],
   "source": [
    "import os"
   ]
  },
  {
   "cell_type": "code",
   "execution_count": 2,
   "metadata": {},
   "outputs": [],
   "source": [
    "os.chdir('../src/')"
   ]
  },
  {
   "cell_type": "code",
   "execution_count": 3,
   "metadata": {},
   "outputs": [],
   "source": [
    "import json\n",
    "from modules.training_module import TrainingModule\n",
    "from configs.base_config import TrainingModuleConfig\n"
   ]
  },
  {
   "cell_type": "code",
   "execution_count": 4,
   "metadata": {},
   "outputs": [],
   "source": [
    "with open('../config/sample_training_config.json') as f_train:\n",
    "    default_train_config = json.load(f_train)"
   ]
  },
  {
   "cell_type": "code",
   "execution_count": 5,
   "metadata": {},
   "outputs": [],
   "source": [
    "default_train_config['region_name'] = ['bengaluru urban']\n",
    "default_train_config['train_start_date'] = '6/11/20'\n",
    "default_train_config['train_end_date'] = '6/20/20'\n",
    "default_train_config['search_parameters']['max_evals'] = 2\n",
    "default_train_config['ensemble'] = \"True\""
   ]
  },
  {
   "cell_type": "code",
   "execution_count": 6,
   "metadata": {},
   "outputs": [
    {
     "data": {
      "text/plain": [
       "{'region_name': ['bengaluru urban'],\n",
       " 'region_type': 'district',\n",
       " 'train_start_date': '6/11/20',\n",
       " 'train_end_date': '6/20/20',\n",
       " 'model_class': 'SEIR',\n",
       " 'model_parameters': {'infectious_period': 9.5412,\n",
       "  'incubation_period': 6,\n",
       "  'IbyCRatio': 0.59,\n",
       "  'RbyCRatio': 0.41,\n",
       "  'r0': 2.4091},\n",
       " 'search_space': {'r0': [0.8, 6], 'EbyCRatio': [1, 70]},\n",
       " 'search_parameters': {'max_evals': 2},\n",
       " 'training_loss_function': {'metric_name': 'mape',\n",
       "  'variable_weights': [{'variable': 'confirmed', 'weight': 1}]},\n",
       " 'loss_functions': [{'metric_name': 'mape',\n",
       "   'variable_weights': [{'variable': 'confirmed', 'weight': 1}]},\n",
       "  {'metric_name': 'rmse',\n",
       "   'variable_weights': [{'variable': 'confirmed', 'weight': 1}]}],\n",
       " 'output_filepath': 'seir_train.json',\n",
       " 'ensemble': 'True'}"
      ]
     },
     "execution_count": 6,
     "metadata": {},
     "output_type": "execute_result"
    }
   ],
   "source": [
    "default_train_config"
   ]
  },
  {
   "cell_type": "code",
   "execution_count": 7,
   "metadata": {},
   "outputs": [],
   "source": [
    "config = TrainingModuleConfig.parse_obj(default_train_config)"
   ]
  },
  {
   "cell_type": "code",
   "execution_count": 8,
   "metadata": {
    "scrolled": true
   },
   "outputs": [
    {
     "name": "stdout",
     "output_type": "stream",
     "text": [
      "t = 10.90                                            \n",
      "t = 10.90                                            \n",
      "100%|██████████| 2/2 [00:00<00:00, 16.78trial/s, best loss: 170.90766583819592]\n",
      "{'infectious_period': 9.5412, 'incubation_period': 6, 'IbyCRatio': 0.59, 'RbyCRatio': 0.41, 'r0': 1.575169499032817, 'EbyCRatio': 3.5390658331213998}\n",
      "t = 10.90\n",
      "{'infectious_period': 9.5412, 'incubation_period': 6, 'IbyCRatio': 0.59, 'RbyCRatio': 0.41, 'r0': 4.3496955235375845, 'EbyCRatio': 10.45460940017893, 'latent_params': {'LatentEbyCRatio': {'6/10/20': 3.5390658331213998, '6/20/20': 0.6284411592276015}, 'LatentIbyCRatio': {'6/10/20': 0.59, '6/20/20': 0.5673382888786095}}}\n",
      "t = 10.90\n"
     ]
    }
   ],
   "source": [
    "r = TrainingModule.from_config(config)"
   ]
  },
  {
   "cell_type": "code",
   "execution_count": 9,
   "metadata": {},
   "outputs": [
    {
     "data": {
      "text/plain": [
       "{'model_parameters': {'consituent_models': {'0': {'model_class': 'SEIR',\n",
       "    'model_parameters': {'infectious_period': 9.5412,\n",
       "     'incubation_period': 6,\n",
       "     'IbyCRatio': 0.59,\n",
       "     'RbyCRatio': 0.41,\n",
       "     'r0': 4.3496955235375845,\n",
       "     'EbyCRatio': 10.45460940017893,\n",
       "     'latent_params': {'LatentEbyCRatio': {'6/10/20': 10.45460940017893,\n",
       "       '6/20/20': 1.3340533523126188},\n",
       "      'LatentIbyCRatio': {'6/10/20': 0.59, '6/20/20': 0.6987882194714558}}}},\n",
       "   '1': {'model_class': 'SEIR',\n",
       "    'model_parameters': {'infectious_period': 9.5412,\n",
       "     'incubation_period': 6,\n",
       "     'IbyCRatio': 0.59,\n",
       "     'RbyCRatio': 0.41,\n",
       "     'r0': 4.3496955235375845,\n",
       "     'EbyCRatio': 10.45460940017893,\n",
       "     'latent_params': {'LatentEbyCRatio': {'6/10/20': 10.45460940017893,\n",
       "       '6/20/20': 1.3340533523126188},\n",
       "      'LatentIbyCRatio': {'6/10/20': 0.59, '6/20/20': 0.6987882194714558}}}}},\n",
       "  'constituent_model_losses': {'0': 170.90766583819592,\n",
       "   '1': 863.1263022860442}}}"
      ]
     },
     "execution_count": 9,
     "metadata": {},
     "output_type": "execute_result"
    }
   ],
   "source": [
    "r"
   ]
  },
  {
   "cell_type": "code",
   "execution_count": null,
   "metadata": {},
   "outputs": [],
   "source": []
  },
  {
   "cell_type": "code",
   "execution_count": null,
   "metadata": {},
   "outputs": [],
   "source": []
  },
  {
   "cell_type": "code",
   "execution_count": null,
   "metadata": {},
   "outputs": [],
   "source": []
  },
  {
   "cell_type": "code",
   "execution_count": 12,
   "metadata": {},
   "outputs": [
    {
     "name": "stdout",
     "output_type": "stream",
     "text": [
      "{'best_params': {'EbyCRatio': 4.7443114253683625, 'r0': 4.1103600567939145}, 'best_loss': 399.67198776705925}\n",
      "{'state': 2, 'tid': 0, 'spec': None, 'result': {'loss': 6249.431271412842, 'status': 'ok'}, 'misc': {'tid': 0, 'cmd': ('domain_attachment', 'FMinIter_Domain'), 'workdir': None, 'idxs': {'EbyCRatio': [0], 'r0': [0]}, 'vals': {'EbyCRatio': [65.90191580044254], 'r0': [5.55411842948081]}}, 'exp_key': None, 'owner': None, 'version': 0, 'book_time': datetime.datetime(2020, 6, 21, 10, 4, 28, 450000), 'refresh_time': datetime.datetime(2020, 6, 21, 10, 4, 28, 493000)}\n",
      "{'state': 2, 'tid': 1, 'spec': None, 'result': {'loss': 3348.6658216050246, 'status': 'ok'}, 'misc': {'tid': 1, 'cmd': ('domain_attachment', 'FMinIter_Domain'), 'workdir': None, 'idxs': {'EbyCRatio': [1], 'r0': [1]}, 'vals': {'EbyCRatio': [39.79746429806151], 'r0': [4.747067564196326]}}, 'exp_key': None, 'owner': None, 'version': 0, 'book_time': datetime.datetime(2020, 6, 21, 10, 4, 28, 494000), 'refresh_time': datetime.datetime(2020, 6, 21, 10, 4, 28, 542000)}\n",
      "{'state': 2, 'tid': 2, 'spec': None, 'result': {'loss': 5776.207260397674, 'status': 'ok'}, 'misc': {'tid': 2, 'cmd': ('domain_attachment', 'FMinIter_Domain'), 'workdir': None, 'idxs': {'EbyCRatio': [2], 'r0': [2]}, 'vals': {'EbyCRatio': [57.3526372101859], 'r0': [5.915924724143007]}}, 'exp_key': None, 'owner': None, 'version': 0, 'book_time': datetime.datetime(2020, 6, 21, 10, 4, 28, 543000), 'refresh_time': datetime.datetime(2020, 6, 21, 10, 4, 28, 589000)}\n",
      "{'state': 2, 'tid': 3, 'spec': None, 'result': {'loss': 4240.425639916824, 'status': 'ok'}, 'misc': {'tid': 3, 'cmd': ('domain_attachment', 'FMinIter_Domain'), 'workdir': None, 'idxs': {'EbyCRatio': [3], 'r0': [3]}, 'vals': {'EbyCRatio': [66.68989357405071], 'r0': [3.0719568645635125]}}, 'exp_key': None, 'owner': None, 'version': 0, 'book_time': datetime.datetime(2020, 6, 21, 10, 4, 28, 591000), 'refresh_time': datetime.datetime(2020, 6, 21, 10, 4, 28, 636000)}\n",
      "{'state': 2, 'tid': 4, 'spec': None, 'result': {'loss': 490.0346881708725, 'status': 'ok'}, 'misc': {'tid': 4, 'cmd': ('domain_attachment', 'FMinIter_Domain'), 'workdir': None, 'idxs': {'EbyCRatio': [4], 'r0': [4]}, 'vals': {'EbyCRatio': [6.052073103225696], 'r0': [4.033464991878584]}}, 'exp_key': None, 'owner': None, 'version': 0, 'book_time': datetime.datetime(2020, 6, 21, 10, 4, 28, 637000), 'refresh_time': datetime.datetime(2020, 6, 21, 10, 4, 28, 682000)}\n",
      "{'state': 2, 'tid': 5, 'spec': None, 'result': {'loss': 634.6498416704801, 'status': 'ok'}, 'misc': {'tid': 5, 'cmd': ('domain_attachment', 'FMinIter_Domain'), 'workdir': None, 'idxs': {'EbyCRatio': [5], 'r0': [5]}, 'vals': {'EbyCRatio': [12.99847240639405], 'r0': [1.5108047072577495]}}, 'exp_key': None, 'owner': None, 'version': 0, 'book_time': datetime.datetime(2020, 6, 21, 10, 4, 28, 683000), 'refresh_time': datetime.datetime(2020, 6, 21, 10, 4, 28, 728000)}\n",
      "{'state': 2, 'tid': 6, 'spec': None, 'result': {'loss': 2388.2303264750926, 'status': 'ok'}, 'misc': {'tid': 6, 'cmd': ('domain_attachment', 'FMinIter_Domain'), 'workdir': None, 'idxs': {'EbyCRatio': [6], 'r0': [6]}, 'vals': {'EbyCRatio': [30.736833916313465], 'r0': [4.22922884991936]}}, 'exp_key': None, 'owner': None, 'version': 0, 'book_time': datetime.datetime(2020, 6, 21, 10, 4, 28, 731000), 'refresh_time': datetime.datetime(2020, 6, 21, 10, 4, 28, 776000)}\n",
      "{'state': 2, 'tid': 7, 'spec': None, 'result': {'loss': 399.67198776705925, 'status': 'ok'}, 'misc': {'tid': 7, 'cmd': ('domain_attachment', 'FMinIter_Domain'), 'workdir': None, 'idxs': {'EbyCRatio': [7], 'r0': [7]}, 'vals': {'EbyCRatio': [4.7443114253683625], 'r0': [4.1103600567939145]}}, 'exp_key': None, 'owner': None, 'version': 0, 'book_time': datetime.datetime(2020, 6, 21, 10, 4, 28, 778000), 'refresh_time': datetime.datetime(2020, 6, 21, 10, 4, 28, 821000)}\n",
      "{'state': 2, 'tid': 8, 'spec': None, 'result': {'loss': 1425.9011023457908, 'status': 'ok'}, 'misc': {'tid': 8, 'cmd': ('domain_attachment', 'FMinIter_Domain'), 'workdir': None, 'idxs': {'EbyCRatio': [8], 'r0': [8]}, 'vals': {'EbyCRatio': [31.731611267955866], 'r0': [0.9937416966253023]}}, 'exp_key': None, 'owner': None, 'version': 0, 'book_time': datetime.datetime(2020, 6, 21, 10, 4, 28, 822000), 'refresh_time': datetime.datetime(2020, 6, 21, 10, 4, 28, 868000)}\n",
      "{'state': 2, 'tid': 9, 'spec': None, 'result': {'loss': 598.3325139839253, 'status': 'ok'}, 'misc': {'tid': 9, 'cmd': ('domain_attachment', 'FMinIter_Domain'), 'workdir': None, 'idxs': {'EbyCRatio': [9], 'r0': [9]}, 'vals': {'EbyCRatio': [9.840517983157817], 'r0': [2.673569136284282]}}, 'exp_key': None, 'owner': None, 'version': 0, 'book_time': datetime.datetime(2020, 6, 21, 10, 4, 28, 871000), 'refresh_time': datetime.datetime(2020, 6, 21, 10, 4, 28, 915000)}\n"
     ]
    }
   ],
   "source": [
    "print(r)\n",
    "for trial in t:\n",
    "    print(trial)"
   ]
  },
  {
   "cell_type": "code",
   "execution_count": 14,
   "metadata": {},
   "outputs": [],
   "source": [
    "trial_list = []\n",
    "for trial in t:\n",
    "    trial_list.append((trial['misc']['vals'], trial['result']['loss']))\n",
    "#     print(trial['misc']['vals'], trial['result']['loss'])\n",
    "#     break"
   ]
  },
  {
   "cell_type": "code",
   "execution_count": 16,
   "metadata": {},
   "outputs": [
    {
     "data": {
      "text/plain": [
       "[({'EbyCRatio': [4.7443114253683625], 'r0': [4.1103600567939145]},\n",
       "  399.67198776705925),\n",
       " ({'EbyCRatio': [6.052073103225696], 'r0': [4.033464991878584]},\n",
       "  490.0346881708725),\n",
       " ({'EbyCRatio': [9.840517983157817], 'r0': [2.673569136284282]},\n",
       "  598.3325139839253),\n",
       " ({'EbyCRatio': [12.99847240639405], 'r0': [1.5108047072577495]},\n",
       "  634.6498416704801),\n",
       " ({'EbyCRatio': [31.731611267955866], 'r0': [0.9937416966253023]},\n",
       "  1425.9011023457908),\n",
       " ({'EbyCRatio': [30.736833916313465], 'r0': [4.22922884991936]},\n",
       "  2388.2303264750926),\n",
       " ({'EbyCRatio': [39.79746429806151], 'r0': [4.747067564196326]},\n",
       "  3348.6658216050246),\n",
       " ({'EbyCRatio': [66.68989357405071], 'r0': [3.0719568645635125]},\n",
       "  4240.425639916824),\n",
       " ({'EbyCRatio': [57.3526372101859], 'r0': [5.915924724143007]},\n",
       "  5776.207260397674),\n",
       " ({'EbyCRatio': [65.90191580044254], 'r0': [5.55411842948081]},\n",
       "  6249.431271412842)]"
      ]
     },
     "execution_count": 16,
     "metadata": {},
     "output_type": "execute_result"
    }
   ],
   "source": [
    "sorted(trial_list, key = lambda x: x[1])"
   ]
  },
  {
   "cell_type": "code",
   "execution_count": 19,
   "metadata": {},
   "outputs": [],
   "source": [
    "from modules.data_fetcher_module import DataFetcherModule\n",
    "observations = DataFetcherModule.get_observations_for_region('district', ['bengaluru urban'])"
   ]
  },
  {
   "cell_type": "code",
   "execution_count": 20,
   "metadata": {},
   "outputs": [
    {
     "data": {
      "text/html": [
       "<div>\n",
       "<style scoped>\n",
       "    .dataframe tbody tr th:only-of-type {\n",
       "        vertical-align: middle;\n",
       "    }\n",
       "\n",
       "    .dataframe tbody tr th {\n",
       "        vertical-align: top;\n",
       "    }\n",
       "\n",
       "    .dataframe thead th {\n",
       "        text-align: right;\n",
       "    }\n",
       "</style>\n",
       "<table border=\"1\" class=\"dataframe\">\n",
       "  <thead>\n",
       "    <tr style=\"text-align: right;\">\n",
       "      <th></th>\n",
       "      <th>region_name</th>\n",
       "      <th>region_type</th>\n",
       "      <th>observation</th>\n",
       "      <th>4/1/20</th>\n",
       "      <th>4/2/20</th>\n",
       "      <th>4/3/20</th>\n",
       "      <th>4/4/20</th>\n",
       "      <th>4/5/20</th>\n",
       "      <th>4/6/20</th>\n",
       "      <th>4/7/20</th>\n",
       "      <th>...</th>\n",
       "      <th>6/12/20</th>\n",
       "      <th>6/13/20</th>\n",
       "      <th>6/14/20</th>\n",
       "      <th>6/15/20</th>\n",
       "      <th>6/16/20</th>\n",
       "      <th>6/17/20</th>\n",
       "      <th>6/18/20</th>\n",
       "      <th>6/19/20</th>\n",
       "      <th>6/20/20</th>\n",
       "      <th>6/21/20</th>\n",
       "    </tr>\n",
       "  </thead>\n",
       "  <tbody>\n",
       "    <tr>\n",
       "      <th>1317</th>\n",
       "      <td>bengaluru urban</td>\n",
       "      <td>district</td>\n",
       "      <td>confirmed</td>\n",
       "      <td>0.0</td>\n",
       "      <td>0.0</td>\n",
       "      <td>0.0</td>\n",
       "      <td>0.0</td>\n",
       "      <td>0.0</td>\n",
       "      <td>0.0</td>\n",
       "      <td>0.0</td>\n",
       "      <td>...</td>\n",
       "      <td>587.333333</td>\n",
       "      <td>615.333333</td>\n",
       "      <td>651.666667</td>\n",
       "      <td>687.666667</td>\n",
       "      <td>729.000000</td>\n",
       "      <td>774.666667</td>\n",
       "      <td>814.333333</td>\n",
       "      <td>884.333333</td>\n",
       "      <td>967.333333</td>\n",
       "      <td>1044.666667</td>\n",
       "    </tr>\n",
       "    <tr>\n",
       "      <th>1318</th>\n",
       "      <td>bengaluru urban</td>\n",
       "      <td>district</td>\n",
       "      <td>deceased</td>\n",
       "      <td>0.0</td>\n",
       "      <td>0.0</td>\n",
       "      <td>0.0</td>\n",
       "      <td>0.0</td>\n",
       "      <td>0.0</td>\n",
       "      <td>0.0</td>\n",
       "      <td>0.0</td>\n",
       "      <td>...</td>\n",
       "      <td>23.666667</td>\n",
       "      <td>26.333333</td>\n",
       "      <td>29.333333</td>\n",
       "      <td>31.333333</td>\n",
       "      <td>34.333333</td>\n",
       "      <td>38.000000</td>\n",
       "      <td>44.000000</td>\n",
       "      <td>50.666667</td>\n",
       "      <td>56.666667</td>\n",
       "      <td>60.000000</td>\n",
       "    </tr>\n",
       "    <tr>\n",
       "      <th>1316</th>\n",
       "      <td>bengaluru urban</td>\n",
       "      <td>district</td>\n",
       "      <td>hospitalized</td>\n",
       "      <td>0.0</td>\n",
       "      <td>0.0</td>\n",
       "      <td>0.0</td>\n",
       "      <td>0.0</td>\n",
       "      <td>0.0</td>\n",
       "      <td>0.0</td>\n",
       "      <td>0.0</td>\n",
       "      <td>...</td>\n",
       "      <td>264.000000</td>\n",
       "      <td>289.000000</td>\n",
       "      <td>313.000000</td>\n",
       "      <td>337.000000</td>\n",
       "      <td>354.666667</td>\n",
       "      <td>382.333333</td>\n",
       "      <td>397.666667</td>\n",
       "      <td>450.666667</td>\n",
       "      <td>520.000000</td>\n",
       "      <td>591.000000</td>\n",
       "    </tr>\n",
       "    <tr>\n",
       "      <th>1319</th>\n",
       "      <td>bengaluru urban</td>\n",
       "      <td>district</td>\n",
       "      <td>recovered</td>\n",
       "      <td>0.0</td>\n",
       "      <td>0.0</td>\n",
       "      <td>0.0</td>\n",
       "      <td>0.0</td>\n",
       "      <td>0.0</td>\n",
       "      <td>0.0</td>\n",
       "      <td>0.0</td>\n",
       "      <td>...</td>\n",
       "      <td>298.666667</td>\n",
       "      <td>299.000000</td>\n",
       "      <td>308.333333</td>\n",
       "      <td>318.333333</td>\n",
       "      <td>339.000000</td>\n",
       "      <td>353.333333</td>\n",
       "      <td>371.666667</td>\n",
       "      <td>382.000000</td>\n",
       "      <td>389.666667</td>\n",
       "      <td>392.666667</td>\n",
       "    </tr>\n",
       "  </tbody>\n",
       "</table>\n",
       "<p>4 rows × 85 columns</p>\n",
       "</div>"
      ],
      "text/plain": [
       "          region_name region_type   observation  4/1/20  4/2/20  4/3/20  \\\n",
       "1317  bengaluru urban    district     confirmed     0.0     0.0     0.0   \n",
       "1318  bengaluru urban    district      deceased     0.0     0.0     0.0   \n",
       "1316  bengaluru urban    district  hospitalized     0.0     0.0     0.0   \n",
       "1319  bengaluru urban    district     recovered     0.0     0.0     0.0   \n",
       "\n",
       "      4/4/20  4/5/20  4/6/20  4/7/20  ...     6/12/20     6/13/20     6/14/20  \\\n",
       "1317     0.0     0.0     0.0     0.0  ...  587.333333  615.333333  651.666667   \n",
       "1318     0.0     0.0     0.0     0.0  ...   23.666667   26.333333   29.333333   \n",
       "1316     0.0     0.0     0.0     0.0  ...  264.000000  289.000000  313.000000   \n",
       "1319     0.0     0.0     0.0     0.0  ...  298.666667  299.000000  308.333333   \n",
       "\n",
       "         6/15/20     6/16/20     6/17/20     6/18/20     6/19/20     6/20/20  \\\n",
       "1317  687.666667  729.000000  774.666667  814.333333  884.333333  967.333333   \n",
       "1318   31.333333   34.333333   38.000000   44.000000   50.666667   56.666667   \n",
       "1316  337.000000  354.666667  382.333333  397.666667  450.666667  520.000000   \n",
       "1319  318.333333  339.000000  353.333333  371.666667  382.000000  389.666667   \n",
       "\n",
       "          6/21/20  \n",
       "1317  1044.666667  \n",
       "1318    60.000000  \n",
       "1316   591.000000  \n",
       "1319   392.666667  \n",
       "\n",
       "[4 rows x 85 columns]"
      ]
     },
     "execution_count": 20,
     "metadata": {},
     "output_type": "execute_result"
    }
   ],
   "source": [
    "observations"
   ]
  },
  {
   "cell_type": "code",
   "execution_count": 10,
   "metadata": {},
   "outputs": [],
   "source": [
    "from model_wrappers.model_factory import ModelFactory"
   ]
  },
  {
   "cell_type": "code",
   "execution_count": null,
   "metadata": {},
   "outputs": [],
   "source": []
  }
 ],
 "metadata": {
  "kernelspec": {
   "display_name": "Python 3",
   "language": "python",
   "name": "python3"
  },
  "language_info": {
   "codemirror_mode": {
    "name": "ipython",
    "version": 3
   },
   "file_extension": ".py",
   "mimetype": "text/x-python",
   "name": "python",
   "nbconvert_exporter": "python",
   "pygments_lexer": "ipython3",
   "version": "3.7.3"
  }
 },
 "nbformat": 4,
 "nbformat_minor": 2
}
