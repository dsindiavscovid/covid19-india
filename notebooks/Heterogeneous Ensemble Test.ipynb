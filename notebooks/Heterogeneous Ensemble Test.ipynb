{
 "cells": [
  {
   "cell_type": "markdown",
   "metadata": {},
   "source": [
    "# Ensemble model"
   ]
  },
  {
   "cell_type": "code",
   "execution_count": 11,
   "metadata": {},
   "outputs": [
    {
     "name": "stdout",
     "output_type": "stream",
     "text": [
      "The autoreload extension is already loaded. To reload it, use:\n",
      "  %reload_ext autoreload\n"
     ]
    }
   ],
   "source": [
    "%load_ext autoreload\n",
    "%autoreload 2"
   ]
  },
  {
   "cell_type": "code",
   "execution_count": 12,
   "metadata": {},
   "outputs": [],
   "source": [
    "import json\n",
    "import pandas as pd\n",
    "from datetime import datetime, timedelta\n",
    "from copy import deepcopy\n",
    "\n",
    "from modules.training_module import TrainingModule\n",
    "from model_wrappers.model_factory import ModelFactory\n",
    "from configs.base_config import TrainingModuleConfig\n",
    "\n",
    "from nb_utils import train_eval, forecast\n",
    "from nb_utils import plot_m1, plot_m2, plot_m3\n",
    "from nb_utils import set_dates"
   ]
  },
  {
   "cell_type": "code",
   "execution_count": 13,
   "metadata": {},
   "outputs": [],
   "source": [
    "with open('../notebooks/train_config.json') as f_train_1, \\\n",
    "    open('../config/sample_ensemble_train_config.json') as f_train_2, \\\n",
    "    open('../config/sample_ensemble_test_config.json') as f_test, \\\n",
    "    open('../config/sample_ensemble_forecasting_config.json') as f_forecast:\n",
    "    default_train_config = json.load(f_train_1)\n",
    "    ensemble_train_config = json.load(f_train_2)\n",
    "    ensemble_test_config = json.load(f_test)\n",
    "    ensemble_forecast_config = json.load(f_forecast)"
   ]
  },
  {
   "cell_type": "code",
   "execution_count": 14,
   "metadata": {},
   "outputs": [],
   "source": [
    "# region = ['bengaluru urban'] \n",
    "# region_type = 'district'\n",
    "# current_day = datetime.now().date() - timedelta(24)\n",
    "# forecast_length = 30\n",
    "\n",
    "# train_eval_plot(region, region_type, \n",
    "#                 current_day, forecast_length,\n",
    "#                 ensemble_train_config, ensemble_test_config,\n",
    "#                 max_evals = 10, 'tracker_district_daily',\n",
    "#                 mlflow_log = False, mlflow_run_name = None)"
   ]
  },
  {
   "cell_type": "markdown",
   "metadata": {},
   "source": [
    "## Train-eval-plot step by step"
   ]
  },
  {
   "cell_type": "code",
   "execution_count": 15,
   "metadata": {},
   "outputs": [
    {
     "data": {
      "text/plain": [
       "{'train1_start_date': '5/28/20',\n",
       " 'train1_end_date': '6/3/20',\n",
       " 'train1_run_day': '5/27/20',\n",
       " 'train2_start_date': '6/4/20',\n",
       " 'train2_end_date': '6/11/20',\n",
       " 'train2_run_day': '6/3/20',\n",
       " 'test_start_date': '6/4/20',\n",
       " 'test_end_date': '6/11/20',\n",
       " 'test_run_day': '6/3/20'}"
      ]
     },
     "execution_count": 15,
     "metadata": {},
     "output_type": "execute_result"
    }
   ],
   "source": [
    "current_day = datetime.now().date() - timedelta(23)\n",
    "\n",
    "dates = set_dates(current_day)\n",
    "    \n",
    "train1_start_date = dates['train1_start_date']\n",
    "train1_end_date = dates['train1_end_date']\n",
    "train1_run_day = dates['train1_run_day']\n",
    "\n",
    "train2_start_date = dates['train2_start_date']\n",
    "train2_end_date = dates['train2_end_date']\n",
    "train2_run_day = dates['train2_run_day']\n",
    "\n",
    "test_start_date = dates['test_start_date']\n",
    "test_end_date = dates['test_end_date']\n",
    "test_run_day = dates['test_run_day']\n",
    "\n",
    "dates"
   ]
  },
  {
   "cell_type": "code",
   "execution_count": 16,
   "metadata": {},
   "outputs": [],
   "source": [
    "default_train_config['region_name'] = ['bengaluru urban']\n",
    "default_train_config['region_type'] = 'district'\n",
    "default_train_config['train_start_date'] = train1_start_date\n",
    "default_train_config['train_end_date'] = train1_end_date\n",
    "default_train_config['search_parameters']['max_evals'] = 10\n",
    "default_train_config['ensemble'] = \"True\"\n",
    "default_train_config['data_source'] = \"tracker_district_daily\"\n",
    "default_train_config['output_filepath'] = \"testing\""
   ]
  },
  {
   "cell_type": "code",
   "execution_count": 17,
   "metadata": {},
   "outputs": [
    {
     "data": {
      "text/plain": [
       "{'data_source': 'tracker_district_daily',\n",
       " 'region_name': ['bengaluru urban'],\n",
       " 'region_type': 'district',\n",
       " 'train_start_date': '5/28/20',\n",
       " 'train_end_date': '6/3/20',\n",
       " 'model_class': 'SEIHRD',\n",
       " 'model_parameters': {'incubation_period': 5, 'F_icu': 0.05},\n",
       " 'ensemble': 'True',\n",
       " 'search_space': {'r0': [0.5, 3],\n",
       "  'EbyCRatio': [0.001, 70],\n",
       "  'IbyCRatio': [0.001, 2],\n",
       "  'infectious_period': [1, 10],\n",
       "  'F_hospitalization': [0, 0.125],\n",
       "  'F_fatalities': [0.02, 0.12]},\n",
       " 'search_parameters': {'max_evals': 10},\n",
       " 'training_loss_function': {'metric_name': 'mape',\n",
       "  'variable_weights': [{'variable': 'confirmed', 'weight': 0.25},\n",
       "   {'variable': 'recovered', 'weight': 0.25},\n",
       "   {'variable': 'deceased', 'weight': 0.25},\n",
       "   {'variable': 'hospitalized', 'weight': 0.25}]},\n",
       " 'loss_functions': [{'metric_name': 'mape',\n",
       "   'variable_weights': [{'variable': 'confirmed', 'weight': 1}]},\n",
       "  {'metric_name': 'mape',\n",
       "   'variable_weights': [{'variable': 'hospitalized', 'weight': 1}]},\n",
       "  {'metric_name': 'mape',\n",
       "   'variable_weights': [{'variable': 'recovered', 'weight': 1}]},\n",
       "  {'metric_name': 'mape',\n",
       "   'variable_weights': [{'variable': 'deceased', 'weight': 1}]}],\n",
       " 'output_filepath': 'testing'}"
      ]
     },
     "execution_count": 17,
     "metadata": {},
     "output_type": "execute_result"
    }
   ],
   "source": [
    "default_train_config"
   ]
  },
  {
   "cell_type": "code",
   "execution_count": 18,
   "metadata": {},
   "outputs": [
    {
     "data": {
      "text/plain": [
       "{'model_class': 'heterogeneous_ensemble',\n",
       " 'ensemble': 'False',\n",
       " 'train_start_date': '',\n",
       " 'train_end_date': '',\n",
       " 'model_parameters': {'constituent_models': {'0': {'model_class': 'SEIHRD',\n",
       "    'model_parameters': {'incubation_period': 5,\n",
       "     'F_icu': 0.05,\n",
       "     'EbyCRatio': 57.24504539983303,\n",
       "     'F_fatalities': 0.02939840410615913,\n",
       "     'F_hospitalization': 0.09255640493613826,\n",
       "     'IbyCRatio': 0.6853391013721378,\n",
       "     'infectious_period': 1.356269916680188,\n",
       "     'r0': 2.058302737418627,\n",
       "     'LatentEbyCRatio': {'6/10/20': 57.24504539983303,\n",
       "      '6/20/20': 0.3503055147832431},\n",
       "     'LatentIbyCRatio': {'6/10/20': 0.6853391013721378,\n",
       "      '6/20/20': 0.09134310512001675}}},\n",
       "   '1': {'model_class': 'SEIHRD',\n",
       "    'model_parameters': {'incubation_period': 5,\n",
       "     'F_icu': 0.05,\n",
       "     'EbyCRatio': 57.24504539983303,\n",
       "     'F_fatalities': 0.02939840410615913,\n",
       "     'F_hospitalization': 0.09255640493613826,\n",
       "     'IbyCRatio': 0.6853391013721378,\n",
       "     'infectious_period': 1.356269916680188,\n",
       "     'r0': 2.058302737418627,\n",
       "     'LatentEbyCRatio': {'6/10/20': 57.24504539983303,\n",
       "      '6/20/20': 0.3503055147832431},\n",
       "     'LatentIbyCRatio': {'6/10/20': 0.6853391013721378,\n",
       "      '6/20/20': 0.09134310512001675}}}},\n",
       "  'constituent_model_losses': {'0': 614.1516557715153, '1': 2125.477875711327},\n",
       "  'modes': {'predict_mode': 'with_uncertainty'},\n",
       "  'beta': 0},\n",
       " 'search_space': {'beta': [0, 1]},\n",
       " 'search_parameters': {'max_evals': 10},\n",
       " 'training_loss_function': {'metric_name': 'mape',\n",
       "  'variable_weights': [{'variable': 'confirmed', 'weight': 0.25},\n",
       "   {'variable': 'recovered', 'weight': 0.25},\n",
       "   {'variable': 'deceased', 'weight': 0.25},\n",
       "   {'variable': 'hospitalized', 'weight': 0.25}]},\n",
       " 'loss_functions': [{'metric_name': 'mape',\n",
       "   'variable_weights': [{'variable': 'confirmed', 'weight': 1}]},\n",
       "  {'metric_name': 'mape',\n",
       "   'variable_weights': [{'variable': 'hospitalized', 'weight': 1}]},\n",
       "  {'metric_name': 'mape',\n",
       "   'variable_weights': [{'variable': 'recovered', 'weight': 1}]},\n",
       "  {'metric_name': 'mape',\n",
       "   'variable_weights': [{'variable': 'deceased', 'weight': 1}]}],\n",
       " 'output_filepath': ''}"
      ]
     },
     "execution_count": 18,
     "metadata": {},
     "output_type": "execute_result"
    }
   ],
   "source": [
    "ensemble_train_config"
   ]
  },
  {
   "cell_type": "code",
   "execution_count": 19,
   "metadata": {},
   "outputs": [],
   "source": [
    "train_config = TrainingModuleConfig.parse_obj(default_train_config)"
   ]
  },
  {
   "cell_type": "code",
   "execution_count": 20,
   "metadata": {
    "scrolled": true
   },
   "outputs": [
    {
     "name": "stdout",
     "output_type": "stream",
     "text": [
      "t = 7.90                                              \n",
      "t = 7.90                                                                       \n",
      "t = 7.90                                                                       \n",
      "t = 7.90                                                                        \n",
      "t = 7.90                                                                        \n",
      "t = 7.90                                                                        \n",
      "t = 7.90                                                                        \n",
      "t = 7.90                                                                        \n",
      "t = 7.90                                                                        \n",
      "t = 7.90                                                                        \n",
      "100%|██████████| 10/10 [00:00<00:00, 11.61trial/s, best loss: 214.07106285056938]\n",
      "Best fit: {'EbyCRatio': 11.308676725152303, 'F_fatalities': 0.048544830193874844, 'F_hospitalization': 0.09897127138930681, 'IbyCRatio': 0.49848523063952005, 'infectious_period': 5.761476226812343, 'r0': 2.4065582061540747}\n",
      "Best Loss: 214.07106285056938\n",
      "t = 7.90\n",
      "t = 7.90\n"
     ]
    }
   ],
   "source": [
    "training_output = TrainingModule.from_config(train_config)"
   ]
  },
  {
   "cell_type": "code",
   "execution_count": 21,
   "metadata": {
    "scrolled": true
   },
   "outputs": [
    {
     "data": {
      "text/plain": [
       "{'model_parameters': {'incubation_period': 5,\n",
       "  'F_icu': 0.05,\n",
       "  'EbyCRatio': 11.308676725152303,\n",
       "  'F_fatalities': 0.048544830193874844,\n",
       "  'F_hospitalization': 0.09897127138930681,\n",
       "  'IbyCRatio': 0.49848523063952005,\n",
       "  'infectious_period': 5.761476226812343,\n",
       "  'r0': 2.4065582061540747,\n",
       "  'LatentEbyCRatio': {'5/27/20': 11.308676725152303,\n",
       "   '6/3/20': 1.8890204260380237},\n",
       "  'LatentIbyCRatio': {'5/27/20': 0.49848523063952005,\n",
       "   '6/3/20': 0.1921306473985409},\n",
       "  'MAPE': 214.07106285056938},\n",
       " 'train_metric_results': [{'metric_name': <MetricName.mape: 'mape'>,\n",
       "   'variable_weights': [{'variable': <ForecastVariable.confirmed: 'confirmed'>,\n",
       "     'weight': 1.0}],\n",
       "   'value': 201.55710741643094},\n",
       "  {'metric_name': <MetricName.mape: 'mape'>,\n",
       "   'variable_weights': [{'variable': <ForecastVariable.hospitalized: 'hospitalized'>,\n",
       "     'weight': 1.0}],\n",
       "   'value': 81.38985101676779},\n",
       "  {'metric_name': <MetricName.mape: 'mape'>,\n",
       "   'variable_weights': [{'variable': <ForecastVariable.recovered: 'recovered'>,\n",
       "     'weight': 1.0}],\n",
       "   'value': 286.5621673828714},\n",
       "  {'metric_name': <MetricName.mape: 'mape'>,\n",
       "   'variable_weights': [{'variable': <ForecastVariable.deceased: 'deceased'>,\n",
       "     'weight': 1.0}],\n",
       "   'value': 286.7751255862074}]}"
      ]
     },
     "execution_count": 21,
     "metadata": {},
     "output_type": "execute_result"
    }
   ],
   "source": [
    "training_output"
   ]
  },
  {
   "cell_type": "code",
   "execution_count": 22,
   "metadata": {},
   "outputs": [
    {
     "ename": "KeyError",
     "evalue": "'constituent_models'",
     "output_type": "error",
     "traceback": [
      "\u001b[0;31m---------------------------------------------------------------------------\u001b[0m",
      "\u001b[0;31mKeyError\u001b[0m                                  Traceback (most recent call last)",
      "\u001b[0;32m<ipython-input-22-79222a2cc9a7>\u001b[0m in \u001b[0;36m<module>\u001b[0;34m\u001b[0m\n\u001b[0;32m----> 1\u001b[0;31m \u001b[0mensemble_train_config\u001b[0m\u001b[0;34m[\u001b[0m\u001b[0;34m'model_parameters'\u001b[0m\u001b[0;34m]\u001b[0m\u001b[0;34m[\u001b[0m\u001b[0;34m'constituent_models'\u001b[0m\u001b[0;34m]\u001b[0m \u001b[0;34m=\u001b[0m \u001b[0mtraining_output\u001b[0m\u001b[0;34m[\u001b[0m\u001b[0;34m'model_parameters'\u001b[0m\u001b[0;34m]\u001b[0m\u001b[0;34m[\u001b[0m\u001b[0;34m'constituent_models'\u001b[0m\u001b[0;34m]\u001b[0m\u001b[0;34m\u001b[0m\u001b[0;34m\u001b[0m\u001b[0m\n\u001b[0m",
      "\u001b[0;31mKeyError\u001b[0m: 'constituent_models'"
     ]
    }
   ],
   "source": [
    "ensemble_train_config['model_parameters']['constituent_models'] = training_output['model_parameters']['constituent_models']"
   ]
  },
  {
   "cell_type": "code",
   "execution_count": null,
   "metadata": {},
   "outputs": [],
   "source": [
    "ensemble_train_config['model_parameters']['constituent_model_losses'] = training_output['model_parameters']['constituent_model_losses']"
   ]
  },
  {
   "cell_type": "code",
   "execution_count": null,
   "metadata": {},
   "outputs": [],
   "source": [
    "ensemble_train_config['model_parameters']['modes']['predict_mode'] = 'without_uncertainty'"
   ]
  },
  {
   "cell_type": "code",
   "execution_count": null,
   "metadata": {
    "scrolled": true
   },
   "outputs": [],
   "source": [
    "ensemble_train_config"
   ]
  },
  {
   "cell_type": "code",
   "execution_count": null,
   "metadata": {
    "scrolled": false
   },
   "outputs": [],
   "source": [
    "params, metrics, train1_model_params, train2_model_params = train_eval(['bengaluru urban'], 'district', \n",
    "                                                                       train1_start_date, train1_end_date, \n",
    "                                                                       train2_start_date, train2_end_date, train2_run_day,\n",
    "                                                                       test_start_date, test_end_date,\n",
    "                                                                       ensemble_train_config, ensemble_test_config,\n",
    "                                                                       max_evals=10, data_source='tracker_district_daily',\n",
    "                                                                       mlflow_log=False, name_prefix=\"testing\")"
   ]
  },
  {
   "cell_type": "code",
   "execution_count": null,
   "metadata": {},
   "outputs": [],
   "source": [
    "params"
   ]
  },
  {
   "cell_type": "code",
   "execution_count": null,
   "metadata": {
    "scrolled": true
   },
   "outputs": [],
   "source": [
    "metrics"
   ]
  },
  {
   "cell_type": "code",
   "execution_count": null,
   "metadata": {
    "scrolled": true
   },
   "outputs": [],
   "source": [
    "train1_model_params"
   ]
  },
  {
   "cell_type": "code",
   "execution_count": null,
   "metadata": {
    "scrolled": true
   },
   "outputs": [],
   "source": [
    "train2_model_params"
   ]
  },
  {
   "cell_type": "code",
   "execution_count": null,
   "metadata": {},
   "outputs": [],
   "source": [
    "forecast_start_date = '6/2/20'\n",
    "forecast_length = 30\n",
    "forecast_run_day = (datetime.strptime(forecast_start_date, \"%m/%d/%y\") - timedelta(days=1)).strftime(\"%-m/%-d/%y\")\n",
    "forecast_end_date = (datetime.strptime(forecast_start_date, \"%m/%d/%y\") + timedelta(days=forecast_length)).strftime(\"%-m/%-d/%y\")"
   ]
  },
  {
   "cell_type": "code",
   "execution_count": null,
   "metadata": {
    "scrolled": false
   },
   "outputs": [],
   "source": [
    "forecast(train2_model_params, forecast_run_day, forecast_start_date, forecast_end_date, ensemble_forecast_config)"
   ]
  },
  {
   "cell_type": "code",
   "execution_count": null,
   "metadata": {
    "scrolled": false
   },
   "outputs": [],
   "source": [
    "plot_m1(train1_model_params, train1_run_day, train1_start_date, train1_end_date, \n",
    "        test_run_day, test_start_date, test_end_date, \n",
    "        rolling_average = False, uncertainty = False, \n",
    "        forecast_config = '../config/sample_ensemble_forecasting_config.json',\n",
    "        plot_config = 'plot_config.json', plot_name = 'm1.png')"
   ]
  },
  {
   "cell_type": "code",
   "execution_count": null,
   "metadata": {
    "scrolled": false
   },
   "outputs": [],
   "source": [
    "plot_m2(train2_model_params, train1_start_date, train1_end_date,\n",
    "        test_run_day, test_start_date, test_end_date, \n",
    "        rolling_average = False, uncertainty = False, \n",
    "        forecast_config = '../config/sample_ensemble_forecasting_config.json',\n",
    "        plot_config = 'plot_config.json', plot_name = 'm2.png')"
   ]
  },
  {
   "cell_type": "code",
   "execution_count": null,
   "metadata": {
    "scrolled": false
   },
   "outputs": [],
   "source": [
    "plot_m3(train2_model_params, train1_start_date, \n",
    "        forecast_start_date, forecast_length, \n",
    "        rolling_average = False, uncertainty = False,\n",
    "        forecast_config = '../config/sample_ensemble_forecasting_config.json',\n",
    "        plot_config = 'plot_config.json', plot_name = 'm3.png')"
   ]
  },
  {
   "cell_type": "code",
   "execution_count": null,
   "metadata": {},
   "outputs": [],
   "source": [
    "train2_model_params"
   ]
  },
  {
   "cell_type": "code",
   "execution_count": null,
   "metadata": {},
   "outputs": [],
   "source": [
    "train2_model_params['model_parameters']['mode']['predict_mode'] = \"with_uncertainty\""
   ]
  },
  {
   "cell_type": "code",
   "execution_count": null,
   "metadata": {},
   "outputs": [],
   "source": [
    "train2_model_params['model_parameters']['uncertainty_parameters'] = {\n",
    "            \"include_mean\": \"True\",\n",
    "            \"percentiles\": [10, 20, 30, 40, 50, 60, 70, 80, 90],\n",
    "            \"ci\": 95,\n",
    "            \"date_of_interest\": \"6/3/20\",\n",
    "            \"column_of_interest\": \"hospitalized\",\n",
    "            \"tolerance\": 0\n",
    "        }"
   ]
  },
  {
   "cell_type": "code",
   "execution_count": null,
   "metadata": {},
   "outputs": [],
   "source": [
    "train2_model_params"
   ]
  },
  {
   "cell_type": "code",
   "execution_count": null,
   "metadata": {
    "scrolled": true
   },
   "outputs": [],
   "source": [
    "uncertainty_df = forecast(train2_model_params, forecast_run_day, forecast_start_date, forecast_end_date, ensemble_forecast_config)"
   ]
  },
  {
   "cell_type": "code",
   "execution_count": null,
   "metadata": {},
   "outputs": [],
   "source": [
    "pd.set_option(\"display.max_columns\", None)\n",
    "uncertainty_df"
   ]
  },
  {
   "cell_type": "code",
   "execution_count": null,
   "metadata": {},
   "outputs": [],
   "source": []
  }
 ],
 "metadata": {
  "kernelspec": {
   "display_name": "Python 3",
   "language": "python",
   "name": "python3"
  },
  "language_info": {
   "codemirror_mode": {
    "name": "ipython",
    "version": 3
   },
   "file_extension": ".py",
   "mimetype": "text/x-python",
   "name": "python",
   "nbconvert_exporter": "python",
   "pygments_lexer": "ipython3",
   "version": "3.8.3"
  }
 },
 "nbformat": 4,
 "nbformat_minor": 2
}
