{
 "cells": [
  {
   "cell_type": "markdown",
   "metadata": {},
   "source": [
    "# Ensemble"
   ]
  },
  {
   "cell_type": "markdown",
   "metadata": {},
   "source": [
    "Todo:\n",
    "\n",
    "- Remove max evals here - it doesn't work"
   ]
  },
  {
   "cell_type": "code",
   "execution_count": null,
   "metadata": {},
   "outputs": [],
   "source": [
    "%load_ext autoreload\n",
    "%autoreload 2"
   ]
  },
  {
   "cell_type": "code",
   "execution_count": null,
   "metadata": {},
   "outputs": [],
   "source": [
    "import json\n",
    "import mlflow\n",
    "import os\n",
    "\n",
    "from datetime import datetime, timedelta\n",
    "\n",
    "from nb_utils import train_eval_plot_ensemble"
   ]
  },
  {
   "cell_type": "code",
   "execution_count": null,
   "metadata": {},
   "outputs": [],
   "source": [
    "with open('../config/sample_homogeneous_train_config.json') as f_train, \\\n",
    "    open('../config/sample_homogeneous_test_config.json') as f_test, \\\n",
    "    open('../config/sample_homogeneous_forecast_config.json') as f_forecast:\n",
    "    default_train_config = json.load(f_train)\n",
    "    default_test_config = json.load(f_test)\n",
    "    default_forecast_config = json.load(f_forecast)"
   ]
  },
  {
   "cell_type": "code",
   "execution_count": null,
   "metadata": {},
   "outputs": [],
   "source": [
    "with open('mlflow_credentials.json') as f_cred:\n",
    "    mlflow_credentials = json.load(f_cred)"
   ]
  },
  {
   "cell_type": "code",
   "execution_count": null,
   "metadata": {},
   "outputs": [],
   "source": [
    "os.environ['MLFLOW_TRACKING_USERNAME'] = mlflow_credentials['username']\n",
    "os.environ['MLFLOW_TRACKING_PASSWORD'] = mlflow_credentials['password']\n",
    "\n",
    "mlflow.set_tracking_uri(\"http://ec2-54-175-207-176.compute-1.amazonaws.com\")\n",
    "mlflow.set_experiment(\"SEIHRD_ENSEMBLE_V0\")"
   ]
  },
  {
   "cell_type": "code",
   "execution_count": null,
   "metadata": {},
   "outputs": [],
   "source": [
    "model_class = 'homogeneous_ensemble'\n",
    "default_train_config['model_class'] = model_class\n",
    "default_test_config['model_class'] = model_class\n",
    "default_forecast_config['model_class'] = model_class\n",
    "\n",
    "default_train_config['model_parameters']['n'] = 10\n",
    "default_train_config['search_parameters']['child_model']['max_evals'] = 10\n",
    "default_train_config['search_parameters']['ensemble_model']['max_evals'] = 10\n",
    "default_forecast_config['model_parameters']['uncertainty_parameters']['date_of_interest'] = '6/25/20'\n",
    "default_forecast_config['model_parameters']['uncertainty_parameters']['percentiles'] = [10,50,90]\n",
    "default_forecast_config['model_parameters']['uncertainty_parameters']['ci'] = []"
   ]
  },
  {
   "cell_type": "code",
   "execution_count": null,
   "metadata": {},
   "outputs": [],
   "source": [
    "current_day = datetime.now().date() - timedelta(4) # Forecast starts from the day after current day\n",
    "forecast_length = 30 # Length of forecast interval (days)"
   ]
  },
  {
   "cell_type": "markdown",
   "metadata": {},
   "source": [
    "### Inputs to train-eval-plot"
   ]
  },
  {
   "cell_type": "code",
   "execution_count": null,
   "metadata": {},
   "outputs": [],
   "source": [
    "region = ['delhi']\n",
    "region_type = 'state'\n",
    "\n",
    "current_day = datetime.now().date() - timedelta(40)\n",
    "forecast_length = 30\n",
    "\n",
    "name_prefix = region"
   ]
  },
  {
   "cell_type": "markdown",
   "metadata": {},
   "source": [
    "### Train eval plot"
   ]
  },
  {
   "cell_type": "code",
   "execution_count": null,
   "metadata": {
    "scrolled": false
   },
   "outputs": [],
   "source": [
    "# remove max_evals here, it doesn't work\n",
    "params, metrics, train1_params, train2_params = train_eval_plot_ensemble(region, region_type, \n",
    "                                                current_day, forecast_length,\n",
    "                                                default_train_config, default_test_config, default_forecast_config,\n",
    "                                                train_period = 14, test_period = 7,\n",
    "                                                max_evals = 100, data_source = 'rootnet_stats_history', \n",
    "                                                mlflow_log = False, mlflow_run_name = \"Ensemble testing\")"
   ]
  },
  {
   "cell_type": "code",
   "execution_count": null,
   "metadata": {},
   "outputs": [],
   "source": []
  }
 ],
 "metadata": {
  "kernelspec": {
   "display_name": "Python 3",
   "language": "python",
   "name": "python3"
  }
 },
 "nbformat": 4,
 "nbformat_minor": 4
}
