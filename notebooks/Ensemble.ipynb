{
 "cells": [
  {
   "cell_type": "markdown",
   "metadata": {},
   "source": [
    "# Ensemble"
   ]
  },
  {
   "cell_type": "markdown",
   "metadata": {},
   "source": [
    "Todo:\n",
    "\n",
    "- Remove max evals here - it doesn't work"
   ]
  },
  {
   "cell_type": "code",
   "execution_count": null,
   "metadata": {},
   "outputs": [],
   "source": [
    "%load_ext autoreload\n",
    "%autoreload 2"
   ]
  },
  {
   "cell_type": "code",
   "execution_count": null,
   "metadata": {},
   "outputs": [],
   "source": [
    "import json\n",
    "import mlflow\n",
    "import os\n",
    "\n",
    "from datetime import datetime, timedelta\n",
    "from copy import deepcopy\n",
    "\n",
    "from nb_utils import train_eval_plot_ensemble\n",
    "from publishers.report_generation import create_report\n",
    "from publishers.mlflow_logging import log_to_mlflow\n",
    "from utils.data_transformer_helper import flatten, flatten_train_loss_config, flatten_eval_loss_config"
   ]
  },
  {
   "cell_type": "code",
   "execution_count": null,
   "metadata": {},
   "outputs": [],
   "source": [
    "with open('../config/sample_homogeneous_train_config.json') as f_train, \\\n",
    "    open('../config/sample_homogeneous_test_config.json') as f_test, \\\n",
    "    open('../config/sample_homogeneous_forecast_config.json') as f_forecast:\n",
    "    default_train_config = json.load(f_train)\n",
    "    default_test_config = json.load(f_test)\n",
    "    default_forecast_config = json.load(f_forecast)"
   ]
  },
  {
   "cell_type": "code",
   "execution_count": null,
   "metadata": {},
   "outputs": [],
   "source": [
    "with open('mlflow_credentials.json') as f_cred:\n",
    "    mlflow_credentials = json.load(f_cred)"
   ]
  },
  {
   "cell_type": "code",
   "execution_count": null,
   "metadata": {},
   "outputs": [],
   "source": [
    "os.environ['MLFLOW_TRACKING_USERNAME'] = mlflow_credentials['username']\n",
    "os.environ['MLFLOW_TRACKING_PASSWORD'] = mlflow_credentials['password']\n",
    "\n",
    "mlflow.set_tracking_uri(\"http://ec2-54-175-207-176.compute-1.amazonaws.com\")\n",
    "mlflow.set_experiment(\"SEIHRD_ENSEMBLE_V0\")"
   ]
  },
  {
   "cell_type": "markdown",
   "metadata": {},
   "source": [
    "### Inputs to train-eval-plot"
   ]
  },
  {
   "cell_type": "code",
   "execution_count": null,
   "metadata": {},
   "outputs": [],
   "source": [
    "model_class = 'homogeneous_ensemble'\n",
    "default_train_config['model_class'] = model_class\n",
    "default_test_config['model_class'] = model_class\n",
    "default_forecast_config['model_class'] = model_class\n",
    "\n",
    "default_train_config['model_parameters']['n'] = 10\n",
    "default_train_config['search_parameters'][\"frac_for_child\"] = 0.5\n",
    "default_train_config['search_parameters']['child_model']['max_evals'] = 10\n",
    "default_train_config['search_parameters']['ensemble_model']['max_evals'] = 10\n",
    "default_forecast_config['model_parameters']['uncertainty_parameters']['date_of_interest'] = '6/25/20'\n",
    "default_forecast_config['model_parameters']['uncertainty_parameters']['percentiles'] = [10, 50, 90]\n",
    "default_forecast_config['model_parameters']['uncertainty_parameters']['ci'] = []"
   ]
  },
  {
   "cell_type": "code",
   "execution_count": null,
   "metadata": {},
   "outputs": [],
   "source": [
    "current_day = datetime.now().date() - timedelta(4) # Forecast starts from the day after current day\n",
    "forecast_length = 30 # Length of forecast interval (days)"
   ]
  },
  {
   "cell_type": "code",
   "execution_count": null,
   "metadata": {},
   "outputs": [],
   "source": [
    "region = ['delhi']\n",
    "region_type = 'state'\n",
    "\n",
    "current_day = datetime.now().date() - timedelta(40)\n",
    "forecast_length = 30\n",
    "\n",
    "name_prefix = region"
   ]
  },
  {
   "cell_type": "markdown",
   "metadata": {},
   "source": [
    "### Train eval plot"
   ]
  },
  {
   "cell_type": "code",
   "execution_count": null,
   "metadata": {
    "scrolled": true
   },
   "outputs": [],
   "source": [
    "# remove max_evals here, it doesn't work\n",
    "params, metrics, artifacts_dir, train1_params, train2_params = train_eval_plot_ensemble(region, region_type, \n",
    "                                                current_day, forecast_length,\n",
    "                                                default_train_config, default_test_config, default_forecast_config,\n",
    "                                                train_period = 14, test_period = 7,\n",
    "                                                max_evals = 100, data_source = 'rootnet_stats_history', \n",
    "                                                output_dir='../outputs/test/',\n",
    "                                                mlflow_log = False, mlflow_run_name = \"Ensemble testing\")"
   ]
  },
  {
   "cell_type": "markdown",
   "metadata": {},
   "source": [
    "### Logging"
   ]
  },
  {
   "cell_type": "code",
   "execution_count": null,
   "metadata": {},
   "outputs": [],
   "source": [
    "output_dir='../outputs/test/'\n",
    "artifact_list = {\n",
    "    'plot_M1_CARD': os.path.join(output_dir,'m1.png'),\n",
    "    'plot_M1_single_C': os.path.join(output_dir,'m1_confirmed.png'),\n",
    "    'plot_M1_single_A': os.path.join(output_dir,'m1_hospitalized.png'),\n",
    "    'plot_M1_single_R': os.path.join(output_dir,'m1_recovered.png'),\n",
    "    'plot_M1_single_D': os.path.join(output_dir,'m1_deceased.png'),\n",
    "    'plot_M2_CARD': os.path.join(output_dir,'m2.png'),\n",
    "    'plot_M2_single_C': os.path.join(output_dir,'m2_confirmed.png'),\n",
    "    'plot_M2_single_A': os.path.join(output_dir,'m2_hospitalized.png'),\n",
    "    'plot_M2_single_R': os.path.join(output_dir,'m2_recovered.png'),\n",
    "    'plot_M2_single_D': os.path.join(output_dir,'m2_deceased.png'),\n",
    "    'plot_M2_forecast_CARD': os.path.join(output_dir,'m2_forecast.png'),\n",
    "    'plot_M2_forecast_single_C': os.path.join(output_dir,'m2_forecast_confirmed.png'),\n",
    "    'plot_M2_forecast_single_A': os.path.join(output_dir,'m2_forecast_hospitalized.png'),\n",
    "    'plot_M2_forecast_single_R': os.path.join(output_dir,'m2_forecast_recovered.png'), \n",
    "    'plot_M2_forecast_single_D': os.path.join(output_dir,'m2_forecast_deceased.png'),\n",
    "    'plot_planning_pdf_cdf': os.path.join(output_dir,'m2_distribution.png'),\n",
    "    'output_forecast_file': os.path.join('file:///', os.getcwd(),'../outputs/test/','forecast.csv')\n",
    "}"
   ]
  },
  {
   "cell_type": "code",
   "execution_count": null,
   "metadata": {},
   "outputs": [],
   "source": [
    "create_report(params, metrics, artifact_list, \n",
    "              template_path='../src/publishers/template_v1.mustache', report_path='../src/publishers/report.md')"
   ]
  },
  {
   "cell_type": "code",
   "execution_count": null,
   "metadata": {},
   "outputs": [],
   "source": [
    "params_log = deepcopy(params)\n",
    "metrics_log = deepcopy(metrics)\n",
    "\n",
    "params_log['train_loss_function_config'] = flatten_train_loss_config(params['train_loss_function_config'])\n",
    "params_log['eval_loss_function_config'] = flatten_eval_loss_config(params['eval_loss_function_config'])\n",
    "params_log = flatten(params_log)\n",
    "metrics_log = flatten(metrics_log)\n",
    "\n",
    "del metrics_log['M1_losses']\n",
    "del metrics_log['M2_losses']\n",
    "\n",
    "log_to_mlflow(params_log, metrics_log, artifact_list, experiment_name=\"SEIHRD_ENSEMBLE_V0\", run_name='testing')"
   ]
  },
  {
   "cell_type": "code",
   "execution_count": null,
   "metadata": {},
   "outputs": [],
   "source": []
  }
 ],
 "metadata": {
  "kernelspec": {
   "display_name": "Python 3",
   "language": "python",
   "name": "python3"
  },
  "language_info": {
   "codemirror_mode": {
    "name": "ipython",
    "version": 3
   },
   "file_extension": ".py",
   "mimetype": "text/x-python",
   "name": "python",
   "nbconvert_exporter": "python",
   "pygments_lexer": "ipython3",
   "version": "3.8.3"
  }
 },
 "nbformat": 4,
 "nbformat_minor": 4
}
