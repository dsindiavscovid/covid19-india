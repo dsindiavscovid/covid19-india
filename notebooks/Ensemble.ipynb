{
 "cells": [
  {
   "cell_type": "markdown",
   "metadata": {},
   "source": [
    "# Ensemble"
   ]
  },
  {
   "cell_type": "markdown",
   "metadata": {},
   "source": [
    "Todo:\n",
    "    \n",
    "- different number of evals for training of constituent models and beta?\n",
    "- train loss?"
   ]
  },
  {
   "cell_type": "code",
   "execution_count": null,
   "metadata": {},
   "outputs": [],
   "source": [
    "%load_ext autoreload\n",
    "%autoreload 2"
   ]
  },
  {
   "cell_type": "code",
   "execution_count": null,
   "metadata": {},
   "outputs": [],
   "source": [
    "import json\n",
    "\n",
    "from datetime import datetime, timedelta\n",
    "\n",
    "from nb_utils import train_eval_plot_ensemble"
   ]
  },
  {
   "cell_type": "code",
   "execution_count": null,
   "metadata": {},
   "outputs": [],
   "source": [
    "with open('../config/sample_homogeneous_train_config.json') as f_train, \\\n",
    "    open('../config/sample_homogeneous_test_config.json') as f_test, \\\n",
    "    open('../config/sample_homogeneous_forecast_config.json') as f_forecast:\n",
    "    default_train_config = json.load(f_train)\n",
    "    default_test_config = json.load(f_test)\n",
    "    default_forecast_config = json.load(f_forecast)"
   ]
  },
  {
   "cell_type": "code",
   "execution_count": null,
   "metadata": {},
   "outputs": [],
   "source": [
    "model_class = 'homogeneous_ensemble'\n",
    "default_train_config['model_class'] = model_class\n",
    "default_test_config['model_class'] = model_class\n",
    "default_forecast_config['model_class'] = model_class"
   ]
  },
  {
   "cell_type": "code",
   "execution_count": null,
   "metadata": {},
   "outputs": [],
   "source": [
    "current_day = datetime.now().date() - timedelta(4) # Forecast starts from the day after current day\n",
    "forecast_length = 30 # Length of forecast interval (days)"
   ]
  },
  {
   "cell_type": "markdown",
   "metadata": {},
   "source": [
    "### Inputs to train-eval-plot"
   ]
  },
  {
   "cell_type": "code",
   "execution_count": null,
   "metadata": {},
   "outputs": [],
   "source": [
    "region = ['bengaluru urban']\n",
    "region_type = 'district'\n",
    "\n",
    "current_day = datetime.now().date() - timedelta(23)\n",
    "forecast_length = 30\n",
    "\n",
    "name_prefix = region[0]"
   ]
  },
  {
   "cell_type": "markdown",
   "metadata": {},
   "source": [
    "### Train eval plot"
   ]
  },
  {
   "cell_type": "code",
   "execution_count": null,
   "metadata": {
    "scrolled": false
   },
   "outputs": [],
   "source": [
    "train_eval_plot_ensemble(region, region_type, \n",
    "                         current_day, forecast_length,\n",
    "                         default_train_config, default_test_config, default_forecast_config,\n",
    "                         train_period = 14, test_period = 7,\n",
    "                         max_evals = 2, data_source = 'tracker_district_daily', \n",
    "                         mlflow_log = False, mlflow_run_name = \"Testing combined data\")"
   ]
  },
  {
   "cell_type": "code",
   "execution_count": null,
   "metadata": {},
   "outputs": [],
   "source": []
  }
 ],
 "metadata": {
  "kernelspec": {
   "display_name": "Python 3",
   "language": "python",
   "name": "python3"
  },
  "language_info": {
   "codemirror_mode": {
    "name": "ipython",
    "version": 3
   },
   "file_extension": ".py",
   "mimetype": "text/x-python",
   "name": "python",
   "nbconvert_exporter": "python",
   "pygments_lexer": "ipython3",
   "version": "3.8.3"
  }
 },
 "nbformat": 4,
 "nbformat_minor": 4
}
