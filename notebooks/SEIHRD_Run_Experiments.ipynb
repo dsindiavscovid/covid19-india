{
 "cells": [
  {
   "cell_type": "markdown",
   "metadata": {},
   "source": [
    "# SEIHRD model class experiments"
   ]
  },
  {
   "cell_type": "markdown",
   "metadata": {},
   "source": [
    "Utilities for train, forecasting and plotting are now provided in nb_utils.\n",
    "Documentation for the helper functions are available as docstrings.\n",
    "\n",
    "Set the appropriate training parameters and forecast parameters in the \n",
    "corresponding cells.\n",
    "\n",
    "train_eval   \n",
    "> Train and evaluate models (currently we only support SEIR family). \n",
    "  Default configuration parameters for train and test files are \n",
    "  provided as train_config.json and test_config.json respectively.\n",
    "  Search paramters, loss functions etc, are specified in the config\n",
    "  files.\n",
    "\n",
    "forecast, plot\n",
    "> Generate forecasts using a trained model and plotting utilities."
   ]
  },
  {
   "cell_type": "code",
   "execution_count": null,
   "metadata": {},
   "outputs": [],
   "source": [
    "import json\n",
    "import pandas as pd\n",
    "import mlflow\n",
    "import os\n",
    "\n",
    "from datetime import datetime, timedelta\n",
    "\n",
    "from nb_utils import plot\n",
    "from nb_utils import plot_m1, plot_m2, plot_m3\n",
    "from nb_utils import train_eval_plot"
   ]
  },
  {
   "cell_type": "markdown",
   "metadata": {},
   "source": [
    "## Load default configurations"
   ]
  },
  {
   "cell_type": "code",
   "execution_count": null,
   "metadata": {},
   "outputs": [],
   "source": [
    "with open('train_config.json') as f_train, \\\n",
    "    open('test_config.json') as f_test, \\\n",
    "    open('forecast_config.json') as f_forecast, \\\n",
    "    open('mlflow_credentials.json') as f_cred:\n",
    "    default_train_config = json.load(f_train)\n",
    "    default_test_config = json.load(f_test)\n",
    "    default_forecast_config = json.load(f_forecast)\n",
    "    mlflow_credentials = json.load(f_cred)"
   ]
  },
  {
   "cell_type": "markdown",
   "metadata": {},
   "source": [
    "## Set the model class"
   ]
  },
  {
   "cell_type": "code",
   "execution_count": null,
   "metadata": {},
   "outputs": [],
   "source": [
    "model_class = 'SEIHRD'\n",
    "default_train_config['model_class'] = model_class\n",
    "default_test_config['model_class'] = model_class\n",
    "default_forecast_config['model_class'] = model_class"
   ]
  },
  {
   "cell_type": "markdown",
   "metadata": {},
   "source": [
    "## MLflow setup"
   ]
  },
  {
   "cell_type": "markdown",
   "metadata": {},
   "source": [
    "Set MLflow username, password and experiment."
   ]
  },
  {
   "cell_type": "code",
   "execution_count": null,
   "metadata": {},
   "outputs": [],
   "source": [
    "os.environ['MLFLOW_TRACKING_USERNAME'] = mlflow_credentials['username']\n",
    "os.environ['MLFLOW_TRACKING_PASSWORD'] = mlflow_credentials['password']\n",
    "\n",
    "mlflow.set_tracking_uri(\"http://ec2-54-175-207-176.compute-1.amazonaws.com\")\n",
    "mlflow.set_experiment(\"seihrd_experiments\")"
   ]
  },
  {
   "cell_type": "markdown",
   "metadata": {},
   "source": [
    "## Set experiments"
   ]
  },
  {
   "cell_type": "code",
   "execution_count": null,
   "metadata": {},
   "outputs": [],
   "source": [
    "experiments = [\n",
    "    {'region':['pune'],'region_type':'district'}\n",
    "]\n",
    "\n",
    "current_day = datetime.now().date() - timedelta(4) # Forecast starts from the day after current day\n",
    "forecast_length = 30 # Length of forecast interval (days)"
   ]
  },
  {
   "cell_type": "markdown",
   "metadata": {},
   "source": [
    "## Run experiments"
   ]
  },
  {
   "cell_type": "code",
   "execution_count": null,
   "metadata": {
    "scrolled": true
   },
   "outputs": [],
   "source": [
    "# Official data, combined\n",
    "\n",
    "for experiment in experiments:\n",
    "    train_eval_plot(experiment['region'], experiment['region_type'], \n",
    "                    current_day, forecast_length,\n",
    "                    default_train_config, default_test_config, default_forecast_config,\n",
    "                    max_evals = 1000, data_source = 'tracker_district_daily', \n",
    "                    mlflow_log = False, mlflow_run_name = \"Testing combined data\")"
   ]
  },
  {
   "cell_type": "code",
   "execution_count": null,
   "metadata": {},
   "outputs": [],
   "source": []
  }
 ],
 "metadata": {
  "kernelspec": {
   "display_name": "Python 3",
   "language": "python",
   "name": "python3"
  },
  "language_info": {
   "codemirror_mode": {
    "name": "ipython",
    "version": 3
   },
   "file_extension": ".py",
   "mimetype": "text/x-python",
   "name": "python",
   "nbconvert_exporter": "python",
   "pygments_lexer": "ipython3",
   "version": "3.8.3"
  }
 },
 "nbformat": 4,
 "nbformat_minor": 4
}
