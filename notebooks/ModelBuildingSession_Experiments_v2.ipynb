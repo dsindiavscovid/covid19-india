{
 "cells": [
  {
   "cell_type": "markdown",
   "metadata": {},
   "source": [
    "# Overview"
   ]
  },
  {
   "cell_type": "markdown",
   "metadata": {},
   "source": [
    "* Table of contents (with links)\n",
    "* Introduction\n",
    "* Purpose of the notebook\n",
    "* Key steps (include a picture)\n",
    "   * Step 0: Initialize Session\n",
    "   * Step 1: View Past Forecasts\n",
    "   * Step 2: Examine Data\n",
    "   * Step 3: Build Model and Generate Forecasts\n",
    "   * Step 4: Planning & What-if Scenarios\n",
    "   * Step 5: Review Outputs\n",
    "   * Step 6: Publish Current Forecast Outputs\n",
    "* Organization of the notebook\n",
    "   * Each of the above steps has the following components \n",
    "       * Description of the step,\n",
    "       * Tips on input parameter choices\n",
    "       * Code cells (edit, edit- only by expert users, no edit) \n",
    "       * Tips on interpreting outputs and troubleshooting\n",
    "* Prerequisites for running the notebook\n",
    "* Additional resources"
   ]
  },
  {
   "cell_type": "markdown",
   "metadata": {},
   "source": [
    "## Imports "
   ]
  },
  {
   "cell_type": "code",
   "execution_count": 1,
   "metadata": {},
   "outputs": [],
   "source": [
    "%load_ext autoreload\n",
    "%autoreload 2\n",
    "\n",
    "from model_building_utils_new import ModelBuildingSession"
   ]
  },
  {
   "cell_type": "markdown",
   "metadata": {},
   "source": [
    "# Step 0: Set Session variables"
   ]
  },
  {
   "cell_type": "markdown",
   "metadata": {},
   "source": [
    "* **Description**: Creates a session object to track session level variables that do not have to be repeated and sets up the default model building configuration as well as logging of outputs\n",
    "\n",
    "* **Inputs**: \n",
    "    * session_name: str, optional\n",
    "        * Session name to be used for tracking in MLFlow or logs, otherwise default will be constructed from username and  timestamp (default = user name + timestamp)\n",
    "    * user_name: str, optional\n",
    "        * User name will be used for creating session_name if unspecified (default ='guest')\n",
    "        \n",
    "* **Outputs**:\n",
    "    * curr_session: ModelBuildingSession\n",
    "        * Session object loaded with the default model building configuration\n",
    "        "
   ]
  },
  {
   "cell_type": "markdown",
   "metadata": {},
   "source": [
    "### Input Choice Tips\n",
    "\n",
    "* **session_name** : Pick a name that combines the key elements(region, train interval, runday)"
   ]
  },
  {
   "cell_type": "code",
   "execution_count": 2,
   "metadata": {},
   "outputs": [],
   "source": [
    "# EDIT CELL: SET INPUT VALUES AS REQUIRED\n",
    "\n",
    "# OPTIONAL PARAMETERS\n",
    "user_name = 'guest'\n",
    "session_name = 'del'"
   ]
  },
  {
   "cell_type": "code",
   "execution_count": 3,
   "metadata": {},
   "outputs": [
    {
     "name": "stdout",
     "output_type": "stream",
     "text": [
      "../outputs/del_outputs already exists. Your content might get overwritten.Please change the directory name to retain previous content\n",
      "**********************\n",
      "Created session: del\n",
      "User: guest\n",
      "Output stored in the directory: ../outputs/del_outputs\n",
      "**********************\n",
      "\n"
     ]
    }
   ],
   "source": [
    "# NO EDIT CELL\n",
    "current_session = ModelBuildingSession.create_session(session_name,user_name)"
   ]
  },
  {
   "cell_type": "markdown",
   "metadata": {},
   "source": [
    "### Output Interpretation & Troubleshooting\n",
    "\n",
    "* Parameters of the ModelBuildingSession can be examined and set using get_params(), set_params() methods. See the documentation on <TODO:AddLinks> ModelBuildingSession class\n",
    "* [ML Flow Tracking](https://mlflow.org/docs/latest/tracking.html#tracking) is an open source platform that enables tracking of experiments. Each model building session is logged as a run along with the associated meta data and artifacts \n",
    "* The local folder session_name + \"_ \" outputs/ will contain all the output artifacts associated with the current session. If a function generating artifacts is rerun without changing the artifact filepaths, then they will get overwritten. \n",
    "* To start a new run, we have to create a new session by running the above cell again with a new session_name "
   ]
  },
  {
   "cell_type": "markdown",
   "metadata": {},
   "source": [
    "# Step 1: View Past Forecasts"
   ]
  },
  {
   "cell_type": "markdown",
   "metadata": {},
   "source": [
    "* **Description**: Returns links to previously generated forecasts for the specified region\n",
    "\n",
    "* **Inputs**: \n",
    "   * region_type: REGION_TYPE\n",
    "       * valid region type from ['country','state','district','other']\n",
    "   * region_name: REGION_NAME\n",
    "       * valid region name\n",
    "   * experiment_name: EXPERIMENT_NAME\n",
    "       * valid experiment name (default: SEIHRD_ENSEMBLE_V0)\n",
    "   * interval_to_consider: int, optional\n",
    "       * number of past days to consider for retrieving runs (default =0)\n",
    "       \n",
    "* **Outputs**:\n",
    "    * run_links: list[URL]\n",
    "        * list of URLs corresponding to relevant \"published\" ML-Flow links (for now returns a pandas df containing links)"
   ]
  },
  {
   "cell_type": "markdown",
   "metadata": {},
   "source": [
    "### Input Choice Tips\n",
    "\n",
    "* **region_type**: 'other' can be used for smaller regions or stratification by some groups (e.g., slums in a region) along with 'csv' source\n",
    "* **region_name**: Please make sure the spelling and the case of the region_name is correct. Here is a list <TODO:ADDLinks> of valid regions.\n",
    "* **interval_to_consider**: It is useful to look at the data trends/model parameters from at least one  earlier forecast and contrast that with the current one. "
   ]
  },
  {
   "cell_type": "code",
   "execution_count": 4,
   "metadata": {},
   "outputs": [],
   "source": [
    "# EDIT CELL: SET INPUT VALUES AS REQUIRED\n",
    "\n",
    "# MANDATORY PARAMETERS\n",
    "current_session.set_field('region_name', 'delhi')\n",
    "current_session.set_field('region_type', 'state')\n",
    "\n",
    "# OPTIONAL PARAMETERS\n",
    "current_session.set_field('interval_to_consider',50)"
   ]
  },
  {
   "cell_type": "code",
   "execution_count": 5,
   "metadata": {},
   "outputs": [
    {
     "data": {
      "text/html": [
       "<style  type=\"text/css\" >\n",
       "</style><table id=\"T_c43f0e36_d40b_11ea_a010_d4619d2a9fa4\" ><thead>    <tr>        <th class=\"blank level0\" ></th>        <th class=\"col_heading level0 col0\" >Published on</th>        <th class=\"col_heading level0 col1\" >Run name</th>        <th class=\"col_heading level0 col2\" >Link to run</th>    </tr></thead><tbody>\n",
       "                <tr>\n",
       "                        <th id=\"T_c43f0e36_d40b_11ea_a010_d4619d2a9fa4level0_row0\" class=\"row_heading level0 row0\" >1</th>\n",
       "                        <td id=\"T_c43f0e36_d40b_11ea_a010_d4619d2a9fa4row0_col0\" class=\"data row0 col0\" >2020-07-17</td>\n",
       "                        <td id=\"T_c43f0e36_d40b_11ea_a010_d4619d2a9fa4row0_col1\" class=\"data row0 col1\" >Ensemble testing</td>\n",
       "                        <td id=\"T_c43f0e36_d40b_11ea_a010_d4619d2a9fa4row0_col2\" class=\"data row0 col2\" ><a target=\"_blank\" href=\"http://ec2-54-175-207-176.compute-1.amazonaws.com/#/experiments/7/runs/89dd136b458b4852a5088551f4301da4\">http://ec2-54-175-207-176.compute-1.amazonaws.com/#/experiments/7/runs/89dd136b458b4852a5088551f4301da4</a></td>\n",
       "            </tr>\n",
       "            <tr>\n",
       "                        <th id=\"T_c43f0e36_d40b_11ea_a010_d4619d2a9fa4level0_row1\" class=\"row_heading level0 row1\" >2</th>\n",
       "                        <td id=\"T_c43f0e36_d40b_11ea_a010_d4619d2a9fa4row1_col0\" class=\"data row1 col0\" >2020-07-17</td>\n",
       "                        <td id=\"T_c43f0e36_d40b_11ea_a010_d4619d2a9fa4row1_col1\" class=\"data row1 col1\" >Ensemble testing</td>\n",
       "                        <td id=\"T_c43f0e36_d40b_11ea_a010_d4619d2a9fa4row1_col2\" class=\"data row1 col2\" ><a target=\"_blank\" href=\"http://ec2-54-175-207-176.compute-1.amazonaws.com/#/experiments/7/runs/31267e9d03e94a64af307b0a43ba8356\">http://ec2-54-175-207-176.compute-1.amazonaws.com/#/experiments/7/runs/31267e9d03e94a64af307b0a43ba8356</a></td>\n",
       "            </tr>\n",
       "            <tr>\n",
       "                        <th id=\"T_c43f0e36_d40b_11ea_a010_d4619d2a9fa4level0_row2\" class=\"row_heading level0 row2\" >3</th>\n",
       "                        <td id=\"T_c43f0e36_d40b_11ea_a010_d4619d2a9fa4row2_col0\" class=\"data row2 col0\" >2020-07-17</td>\n",
       "                        <td id=\"T_c43f0e36_d40b_11ea_a010_d4619d2a9fa4row2_col1\" class=\"data row2 col1\" >Ensemble testing</td>\n",
       "                        <td id=\"T_c43f0e36_d40b_11ea_a010_d4619d2a9fa4row2_col2\" class=\"data row2 col2\" ><a target=\"_blank\" href=\"http://ec2-54-175-207-176.compute-1.amazonaws.com/#/experiments/7/runs/59d1a51bf5924fb3bd9ea0a47feee95a\">http://ec2-54-175-207-176.compute-1.amazonaws.com/#/experiments/7/runs/59d1a51bf5924fb3bd9ea0a47feee95a</a></td>\n",
       "            </tr>\n",
       "    </tbody></table>"
      ],
      "text/plain": [
       "<pandas.io.formats.style.Styler at 0x10e0cfd90>"
      ]
     },
     "execution_count": 5,
     "metadata": {},
     "output_type": "execute_result"
    }
   ],
   "source": [
    "# NO EDIT CELL\n",
    "current_session.view_forecasts()"
   ]
  },
  {
   "cell_type": "markdown",
   "metadata": {},
   "source": [
    "### Output Interpretation & Troubleshooting\n",
    "\n",
    "*  <TODO:ADD> "
   ]
  },
  {
   "cell_type": "markdown",
   "metadata": {},
   "source": [
    "# Step 2: Examine Data"
   ]
  },
  {
   "cell_type": "markdown",
   "metadata": {},
   "source": [
    "* **Description**: Obtains case count data for specified region and displays it \n",
    "    as a table and a plot, and writes out the plot as specified \n",
    "\n",
    "* **Inputs**: \n",
    "    * region_type: REGION_TYPE\n",
    "        * valid region type from ['country','state','district']\n",
    "    * region_name: REGION_NAME\n",
    "        * valid region name\n",
    "    * data_source_type: DATA_SOURCE_TYPE\n",
    "        * valid source type from ['official','tracker','csv']\n",
    "    * data_filepath: str, optional\n",
    "        * valid local file path of csv file to be uploaded, required only for 'csv' source  \n",
    "    * case_cnt_plot_file_name: str, optional\n",
    "        * file_path where the plot file will be written (default =\"case_cnt_data_observed.png\")\n",
    "    * case_cnt_csv_file_name: str, optional\n",
    "        * file_path for output of a standard csv with date and CARD variables (default =\"case_cnt_data.csv\")\n",
    "        \n",
    "* **Outputs**:\n",
    "    * case_cnt_data: pandas.DataFrame\n",
    "        * dataframe in a standard format with date and CARD variables"
   ]
  },
  {
   "cell_type": "markdown",
   "metadata": {},
   "source": [
    "### Input Choice Tips\n",
    "\n",
    "* There is no need to set parameters that are already set (e.g., region_name) \n",
    "* It is preferable to allow output artifact filepaths (e.g., case_cnt_plot_file_name) to also remain as defaults unless there is specific requirement\n",
    "* **data_filepath**  needs to be set only when the source is csv. \n",
    "* Sanity checking has to be done externally for now"
   ]
  },
  {
   "cell_type": "code",
   "execution_count": 6,
   "metadata": {},
   "outputs": [],
   "source": [
    "# EDIT CELL: SET INPUT VALUES AS REQUIRED\n",
    "\n",
    "# ALREADY SET PARAMETERS\n",
    "#current_session.set_field('region_type', <user_input:region_type>)\n",
    "#current_session.set_field('region_name', <user_input:region_name>)\n",
    "\n",
    "# MANDATORY PARAMETERS\n",
    "current_session.set_field('data_source', 'direct_csv')\n",
    "current_session.set_field('input_data_file', '/Users/nayana/projects/covid/covid19-india/data/pune.csv')\n"
   ]
  },
  {
   "cell_type": "code",
   "execution_count": 7,
   "metadata": {},
   "outputs": [
    {
     "data": {
      "image/png": "[encoded data removed]",
      "text/plain": [
       "<Figure size 1152x864 with 1 Axes>"
      ]
     },
     "metadata": {
      "needs_background": "light"
     },
     "output_type": "display_data"
    }
   ],
   "source": [
    "# NO EDIT CELL\n",
    "current_session.examine_data()"
   ]
  },
  {
   "cell_type": "markdown",
   "metadata": {},
   "source": [
    "### Output Interpretation & Troubleshooting\n",
    "\n",
    "* Examine the plot for basic data sanity checks\n",
    "    * Are all numbers non-negative?\n",
    "    * Are C,R,D monotonically increasing ?\n",
    "    * Are there flat regions indicating no data updates for this period ?\n",
    "    * Is there discontinuous behavior (arbitrary spikes) requiring rolling average smoothing?\n",
    "    * Are there dates with missing observations? \n",
    "* From the output data frame, more checks can be performed\n",
    "    * Is C=A+R+D ?\n",
    "* Decide on training and forecast periods \n",
    "    * What is a stable recent period from which can be used for building the new models\n",
    "    * Is the forecast period likely to follow the behavior of the stable training period?\n",
    "* Decide on which variables are reliable to determine the relative weights in loss function\n",
    "    * Are there any spikes that make recoveries or deaths unreliable in some regions ?\n",
    "    "
   ]
  },
  {
   "cell_type": "markdown",
   "metadata": {},
   "source": [
    "# Step 3: Build Models  & Generate Forecasts"
   ]
  },
  {
   "cell_type": "markdown",
   "metadata": {},
   "source": [
    "* **Description**: Build models as per the specified configuration, generate train, evaluation reports and also forecasts\n",
    "\n",
    "* **Inputs**: \n",
    "    * region_type: REGION_TYPE\n",
    "        * valid region type from ['country','state','district']\n",
    "    * region_name: REGION_NAME\n",
    "        * valid region name\n",
    "    * data_source_type: DATA_SOURCE_TYPE\n",
    "        * valid source type from ['official','tracker','csv']\n",
    "    * data_filepath: str\n",
    "        * valid local file path of csv file to be uploaded\n",
    "    * time_interval_config: TrainTestForecastDatesConfig\n",
    "        * dates to be used for training, evaluation and forecast\n",
    "        * see <TODO:add links> for more details (default =mb.TRAIN_TEST_FORECAST_CONFIG)\n",
    "    * model_class: MODEL_CLASS, optional\n",
    "        * valid model class in mb.MODEL_CLASS (default ='SEIHRD')\n",
    "    * num_trials: int, optional\n",
    "        * number of trials to be used for training (default ='1000')\n",
    "    * param_searchspace_config: ParamSearchSpaceConfig, optional\n",
    "        * search space limits, default values and fine-tunability of various configurations\n",
    "        * see <TODO:add links> for more details (default =mb.PARAM_SEARCHSPACE_CONFIG)\n",
    "    * train_loss_function_config: LossFunctionConfig, optional\n",
    "        * relative weighting of CARD variables & loss metric to be used for training\n",
    "        * see <TODO:add links> for more details (default =mb.TRAIN_LOSS_FUNCTION_CONFIG)\n",
    "    * eval_loss_function_config: list[LossFunctionConfig], optional\n",
    "        * all the loss functions required for evaluation\n",
    "        * see <TODO:add links> for more details (default =mb.EVAL_LOSS_FUNCTION_CONFIG)       \n",
    "    * forecast_percentiles: list[float], optional\n",
    "        * list of percentiles that need to be forecast    \n",
    "    * detailed_report_file: str, optional\n",
    "        * filepath for the detailed report of the model building run\n",
    "    * summary_report_file: str, optional\n",
    "        * filepath for the summary report of the model building run\n",
    "    * planning_input_report_file: str, optional\n",
    "        * filepath for the report that contains inputs needed for the planning step \n",
    "    \n",
    "* **Outputs**:\n",
    "    * model_building_params: dict\n",
    "        * flattened dict of input configuration used for the model building run\n",
    "    * model_building_metrics: dict\n",
    "        * flattened dict of output metrics from the model building run\n",
    "    * model_building_artifact_list: list[str]\n",
    "        * list of artifact files (e.g., jsons, plots, csvs, reports) generated"
   ]
  },
  {
   "cell_type": "markdown",
   "metadata": {},
   "source": [
    "### Input Choice Tips\n",
    "* As before, there should really be no need to set parameters that are already set even though they are presented again\n",
    "* There is also no need to change the output artifact filepaths\n",
    "* This step **does not have*** any mandatory inputs.  \n",
    "* **Typical User Setup**: \n",
    "    * **Relative weights of the variables:**\n",
    "        * If all the variables C, A, R, D are reliable and equally important for forecast accuracy, then we would wish to give equal weightage  to all of them. \n",
    "        * Note that, C, R and D are the independently observed variables and A is derived as A = C-R-D.  Skipping any one of the variables will still provide the same fits.\n",
    "        * Depending on the application or the modeling purpose, a certain variable, e.g., active cases (A) might be more important than the others and a higher relative weight would be appropriate in that case\n",
    "        * If any of the independent variables (e.g., recoveries R) is not reliable because of spikes or unlikely values, then it is preferable to just fit to the two other independent variables or at least adjust the relative weights accordingly\n",
    "    * **Forecast planning variable:**\n",
    "        * This is the variable that is primarily used for forecast planning and uncertainty estimation (default is Active case count A).\n",
    "    * **Dates for training, evaluation and forecasting:**\n",
    "        * **train_end_date**: chosen to be the latest date for which reliable data is available (default choice is d = previous day)\n",
    "        * **train_start_date**: chosen to be the earliest date since which observations can be used for the current analysis (default choice is  d-14 ). Due to govt policy and public behavior changes, the dynamics themselves are continuously evolving and it is preferable to keep this window small, but at the same adequate to estimate the model parameters in a relatively robust way. \n",
    "         * **backtesting_split_date**: chosen to be the date (default choice is d-7) that can be used to split the train period into two intervals, where the first interval is used for training the model that can be used for evaluation on the later interval. The later interval is then used to retrain the model used for forecasting. This process is described in more detail in Model Building Methodology<TODO:AddLinks>. \n",
    "         * **forecast_start_date**: chosen to be the date starting from which we need the forecast (default choice is the d'= next day)\n",
    "         * **forecast_end_date**: chosen to be the date till which we need the forecast (default choice is d'+30)\n",
    "         * **forecast_planning _date**: chosen to be the date to be used for medical planning and percentile calculations (default choice is the d'+15) \n",
    "\n",
    "* **Expert User Setup**: \n",
    "    * If required, experts familiar with epidemiological parameters can also play around with the default model parameters and training search space. All the model building parameters, default values and the relevant information for finetuning these are listed in ModelBuildingParameters <TODO:ADDLinks>"
   ]
  },
  {
   "cell_type": "code",
   "execution_count": 8,
   "metadata": {},
   "outputs": [],
   "source": [
    "# EDIT CELL: SET INPUT VALUES AS REQUIRED\n",
    "\n",
    "# ALREADY SET PARAMETERS\n",
    "#current_session.set_param('region_type', <user_input:region_type>)\n",
    "#current_session.set_param('region_name', <user_input:region_name>)\n",
    "#current_session.set_param('data_source_type', <user_input:data_source_type>)\n",
    "#current_session.set_param('data_filepath', <user_input:data_filepath>)\n",
    "\n",
    "# MANDATORY PARAMETERS - NONE\n",
    "\n",
    "# OPTIONAL PARAMETERS\n",
    "# Loss function - relative weights of variables\n",
    "current_session.set_field('train_loss_function.C_weight', 0.25)\n",
    "current_session.set_field('train_loss_function.A_weight', 0.25)\n",
    "current_session.set_field('train_loss_function.R_weight', 0.25)\n",
    "current_session.set_field('train_loss_function.D_weight', 0.25)\n",
    "\n",
    "# Primary variable for forecast planning\n",
    "current_session.set_field('uncertainty_parameters.variable_of_interest', 'confirmed')\n",
    "\n",
    "# Dates for train, eval, forecast and planning \n",
    "\n",
    "current_session.set_field('time_interval_config.offset_based.reference_day', '7/12/20')\n",
    "current_session.set_field('time_interval_config.offset_based.train_period', 14)\n",
    "current_session.set_field('time_interval_config.offset_based.test_period', 7)\n",
    "current_session.set_field('time_interval_config.offset_based.forecast_period', 30)\n",
    "current_session.set_field('uncertainty_parameters.date_of_interest', '7/25/20')"
   ]
  },
  {
   "cell_type": "code",
   "execution_count": 9,
   "metadata": {},
   "outputs": [],
   "source": [
    "# EXPERT USER SET UP (PLEASE DO NOT EDIT UNLESS REALLY REQUIRED)\n",
    "# EDIT CELL:\n",
    "\n",
    "# OPTIONAL PARAMETERS FOR EXPERTS\n",
    "# Any input parameter of build_models_and_generate_forecasts in ModelBuildingParameter.pdf can be adjusted similar to below example \n",
    "\n",
    "#current_session.set_param('param_searchspace_config.R_t.default_value',<user_input:param_searchspace_config.R_t.default_value>)\n"
   ]
  },
  {
   "cell_type": "code",
   "execution_count": 10,
   "metadata": {},
   "outputs": [
    {
     "name": "stdout",
     "output_type": "stream",
     "text": [
      "100%|██████████| 10/10 [00:00<00:00, 12.09trial/s, best loss: 0.0]\n",
      "100%|██████████| 10/10 [00:00<00:00, 27.46trial/s, best loss: 0.0]\n",
      "Best fit: {'beta': 9.159693672895115}\n",
      "Best Loss: 0.0\n",
      "100%|██████████| 10/10 [00:00<00:00, 13.56trial/s, best loss: 0.0]\n",
      "100%|██████████| 10/10 [00:00<00:00, 38.57trial/s, best loss: 0.0]\n",
      "Best fit: {'beta': 4.061204439670096}\n",
      "Best Loss: 0.0\n",
      "get_subset\n",
      "index region_name region_type   observation  4/24/20  4/25/20  4/26/20  \\\n",
      "0           delhi       state  hospitalized      696      772      770   \n",
      "1           delhi       state     confirmed      910     1030     1052   \n",
      "2           delhi       state      deceased       62       73       76   \n",
      "3           delhi       state     recovered      152      185      206   \n",
      "\n",
      "index  4/27/20  4/28/20  4/29/20  4/30/20  ...  7/3/20  7/4/20  7/5/20  \\\n",
      "0          762      873      863      912  ...   12410   13051   13864   \n",
      "1         1052     1174     1192     1248  ...   25454   26956   28142   \n",
      "2           80       80       85       88  ...     826     841     872   \n",
      "3          210      221      244      248  ...   12218   13064   13406   \n",
      "\n",
      "index  7/6/20  7/7/20  7/8/20  7/9/20  7/10/20  7/11/20  7/12/20  \n",
      "0       14106   14892   15932   17226    18680    18680    20280  \n",
      "1       28966   30131   31704   33394    35232    35232    37356  \n",
      "2         889     926     962     989     1026     1026     1060  \n",
      "3       13971   14313   14810   15179    15526    15526    16016  \n",
      "\n",
      "[4 rows x 83 columns]\n",
      "Index(['region_name', 'region_type', 'observation', '4/24/20', '4/25/20',\n",
      "       '4/26/20', '4/27/20', '4/28/20', '4/29/20', '4/30/20', '5/1/20',\n",
      "       '5/2/20', '5/3/20', '5/4/20', '5/5/20', '5/6/20', '5/7/20', '5/8/20',\n",
      "       '5/9/20', '5/10/20', '5/11/20', '5/12/20', '5/13/20', '5/14/20',\n",
      "       '5/15/20', '5/16/20', '5/17/20', '5/18/20', '5/19/20', '5/20/20',\n",
      "       '5/21/20', '5/22/20', '5/23/20', '5/24/20', '5/25/20', '5/26/20',\n",
      "       '5/27/20', '5/28/20', '5/29/20', '5/30/20', '5/31/20', '6/1/20',\n",
      "       '6/2/20', '6/3/20', '6/4/20', '6/5/20', '6/6/20', '6/7/20', '6/8/20',\n",
      "       '6/9/20', '6/10/20', '6/11/20', '6/12/20', '6/13/20', '6/14/20',\n",
      "       '6/15/20', '6/16/20', '6/17/20', '6/18/20', '6/19/20', '6/20/20',\n",
      "       '6/21/20', '6/22/20', '6/23/20', '6/24/20', '6/25/20', '6/26/20',\n",
      "       '6/27/20', '6/28/20', '6/29/20', '6/30/20', '7/1/20', '7/2/20',\n",
      "       '7/3/20', '7/4/20', '7/5/20', '7/6/20', '7/7/20', '7/8/20', '7/9/20',\n",
      "       '7/10/20', '7/11/20', '7/12/20'],\n",
      "      dtype='object', name='index')\n",
      "get_subset\n",
      "index region_name region_type   observation  4/24/20     4/25/20      4/26/20  \\\n",
      "0           delhi       state  hospitalized    734.0  746.000000   768.000000   \n",
      "1           delhi       state     confirmed    970.0  997.333333  1044.666667   \n",
      "2           delhi       state      deceased     67.5   70.333333    76.333333   \n",
      "3           delhi       state     recovered    168.5  181.000000   200.333333   \n",
      "\n",
      "index      4/27/20      4/28/20      4/29/20      4/30/20  ...        7/3/20  \\\n",
      "0       801.666667   832.666667   882.666667   892.000000  ...  12367.000000   \n",
      "1      1092.666667  1139.333333  1204.666667  1229.333333  ...  25614.000000   \n",
      "2        78.666667    81.666667    84.333333    90.666667  ...    824.666667   \n",
      "3       212.333333   225.000000   237.666667   246.666667  ...  12422.333333   \n",
      "\n",
      "index        7/4/20        7/5/20        7/6/20        7/7/20        7/8/20  \\\n",
      "0      13108.333333  13673.666667  14287.333333  14976.666667  16016.666667   \n",
      "1      26850.666667  28021.333333  29079.666667  30267.000000  31743.000000   \n",
      "2        846.333333    867.333333    895.666667    925.666667    959.000000   \n",
      "3      12896.000000  13480.333333  13896.666667  14364.666667  14767.333333   \n",
      "\n",
      "index        7/9/20       7/10/20       7/11/20  7/12/20  \n",
      "0      17279.333333  18195.333333  19213.333333  19480.0  \n",
      "1      33443.333333  34619.333333  35940.000000  36294.0  \n",
      "2        992.333333   1013.666667   1037.333333   1043.0  \n",
      "3      15171.666667  15410.333333  15689.333333  15771.0  \n",
      "\n",
      "[4 rows x 83 columns]\n",
      "Index(['region_name', 'region_type', 'observation', '4/24/20', '4/25/20',\n",
      "       '4/26/20', '4/27/20', '4/28/20', '4/29/20', '4/30/20', '5/1/20',\n",
      "       '5/2/20', '5/3/20', '5/4/20', '5/5/20', '5/6/20', '5/7/20', '5/8/20',\n",
      "       '5/9/20', '5/10/20', '5/11/20', '5/12/20', '5/13/20', '5/14/20',\n",
      "       '5/15/20', '5/16/20', '5/17/20', '5/18/20', '5/19/20', '5/20/20',\n",
      "       '5/21/20', '5/22/20', '5/23/20', '5/24/20', '5/25/20', '5/26/20',\n",
      "       '5/27/20', '5/28/20', '5/29/20', '5/30/20', '5/31/20', '6/1/20',\n",
      "       '6/2/20', '6/3/20', '6/4/20', '6/5/20', '6/6/20', '6/7/20', '6/8/20',\n",
      "       '6/9/20', '6/10/20', '6/11/20', '6/12/20', '6/13/20', '6/14/20',\n",
      "       '6/15/20', '6/16/20', '6/17/20', '6/18/20', '6/19/20', '6/20/20',\n",
      "       '6/21/20', '6/22/20', '6/23/20', '6/24/20', '6/25/20', '6/26/20',\n",
      "       '6/27/20', '6/28/20', '6/29/20', '6/30/20', '7/1/20', '7/2/20',\n",
      "       '7/3/20', '7/4/20', '7/5/20', '7/6/20', '7/7/20', '7/8/20', '7/9/20',\n",
      "       '7/10/20', '7/11/20', '7/12/20'],\n",
      "      dtype='object', name='index')\n",
      "get_subset\n",
      "index region_name region_type   observation  4/24/20  4/25/20  4/26/20  \\\n",
      "0           delhi       state  hospitalized      696      772      770   \n",
      "1           delhi       state     confirmed      910     1030     1052   \n",
      "2           delhi       state      deceased       62       73       76   \n",
      "3           delhi       state     recovered      152      185      206   \n",
      "\n",
      "index  4/27/20  4/28/20  4/29/20  4/30/20  ...  7/3/20  7/4/20  7/5/20  \\\n",
      "0          762      873      863      912  ...   12410   13051   13864   \n",
      "1         1052     1174     1192     1248  ...   25454   26956   28142   \n",
      "2           80       80       85       88  ...     826     841     872   \n",
      "3          210      221      244      248  ...   12218   13064   13406   \n",
      "\n",
      "index  7/6/20  7/7/20  7/8/20  7/9/20  7/10/20  7/11/20  7/12/20  \n",
      "0       14106   14892   15932   17226    18680    18680    20280  \n",
      "1       28966   30131   31704   33394    35232    35232    37356  \n",
      "2         889     926     962     989     1026     1026     1060  \n",
      "3       13971   14313   14810   15179    15526    15526    16016  \n",
      "\n",
      "[4 rows x 83 columns]\n",
      "Index(['region_name', 'region_type', 'observation', '4/24/20', '4/25/20',\n",
      "       '4/26/20', '4/27/20', '4/28/20', '4/29/20', '4/30/20', '5/1/20',\n",
      "       '5/2/20', '5/3/20', '5/4/20', '5/5/20', '5/6/20', '5/7/20', '5/8/20',\n",
      "       '5/9/20', '5/10/20', '5/11/20', '5/12/20', '5/13/20', '5/14/20',\n",
      "       '5/15/20', '5/16/20', '5/17/20', '5/18/20', '5/19/20', '5/20/20',\n",
      "       '5/21/20', '5/22/20', '5/23/20', '5/24/20', '5/25/20', '5/26/20',\n",
      "       '5/27/20', '5/28/20', '5/29/20', '5/30/20', '5/31/20', '6/1/20',\n",
      "       '6/2/20', '6/3/20', '6/4/20', '6/5/20', '6/6/20', '6/7/20', '6/8/20',\n",
      "       '6/9/20', '6/10/20', '6/11/20', '6/12/20', '6/13/20', '6/14/20',\n",
      "       '6/15/20', '6/16/20', '6/17/20', '6/18/20', '6/19/20', '6/20/20',\n",
      "       '6/21/20', '6/22/20', '6/23/20', '6/24/20', '6/25/20', '6/26/20',\n",
      "       '6/27/20', '6/28/20', '6/29/20', '6/30/20', '7/1/20', '7/2/20',\n",
      "       '7/3/20', '7/4/20', '7/5/20', '7/6/20', '7/7/20', '7/8/20', '7/9/20',\n",
      "       '7/10/20', '7/11/20', '7/12/20'],\n",
      "      dtype='object', name='index')\n",
      "get_subset\n",
      "index region_name region_type   observation  4/24/20     4/25/20      4/26/20  \\\n",
      "0           delhi       state  hospitalized    734.0  746.000000   768.000000   \n",
      "1           delhi       state     confirmed    970.0  997.333333  1044.666667   \n",
      "2           delhi       state      deceased     67.5   70.333333    76.333333   \n",
      "3           delhi       state     recovered    168.5  181.000000   200.333333   \n",
      "\n",
      "index      4/27/20      4/28/20      4/29/20      4/30/20  ...        7/3/20  \\\n",
      "0       801.666667   832.666667   882.666667   892.000000  ...  12367.000000   \n",
      "1      1092.666667  1139.333333  1204.666667  1229.333333  ...  25614.000000   \n",
      "2        78.666667    81.666667    84.333333    90.666667  ...    824.666667   \n",
      "3       212.333333   225.000000   237.666667   246.666667  ...  12422.333333   \n",
      "\n",
      "index        7/4/20        7/5/20        7/6/20        7/7/20        7/8/20  \\\n",
      "0      13108.333333  13673.666667  14287.333333  14976.666667  16016.666667   \n",
      "1      26850.666667  28021.333333  29079.666667  30267.000000  31743.000000   \n",
      "2        846.333333    867.333333    895.666667    925.666667    959.000000   \n",
      "3      12896.000000  13480.333333  13896.666667  14364.666667  14767.333333   \n",
      "\n",
      "index        7/9/20       7/10/20       7/11/20  7/12/20  \n",
      "0      17279.333333  18195.333333  19213.333333  19480.0  \n",
      "1      33443.333333  34619.333333  35940.000000  36294.0  \n",
      "2        992.333333   1013.666667   1037.333333   1043.0  \n",
      "3      15171.666667  15410.333333  15689.333333  15771.0  \n",
      "\n",
      "[4 rows x 83 columns]\n",
      "Index(['region_name', 'region_type', 'observation', '4/24/20', '4/25/20',\n",
      "       '4/26/20', '4/27/20', '4/28/20', '4/29/20', '4/30/20', '5/1/20',\n",
      "       '5/2/20', '5/3/20', '5/4/20', '5/5/20', '5/6/20', '5/7/20', '5/8/20',\n",
      "       '5/9/20', '5/10/20', '5/11/20', '5/12/20', '5/13/20', '5/14/20',\n",
      "       '5/15/20', '5/16/20', '5/17/20', '5/18/20', '5/19/20', '5/20/20',\n",
      "       '5/21/20', '5/22/20', '5/23/20', '5/24/20', '5/25/20', '5/26/20',\n",
      "       '5/27/20', '5/28/20', '5/29/20', '5/30/20', '5/31/20', '6/1/20',\n",
      "       '6/2/20', '6/3/20', '6/4/20', '6/5/20', '6/6/20', '6/7/20', '6/8/20',\n",
      "       '6/9/20', '6/10/20', '6/11/20', '6/12/20', '6/13/20', '6/14/20',\n",
      "       '6/15/20', '6/16/20', '6/17/20', '6/18/20', '6/19/20', '6/20/20',\n",
      "       '6/21/20', '6/22/20', '6/23/20', '6/24/20', '6/25/20', '6/26/20',\n",
      "       '6/27/20', '6/28/20', '6/29/20', '6/30/20', '7/1/20', '7/2/20',\n",
      "       '7/3/20', '7/4/20', '7/5/20', '7/6/20', '7/7/20', '7/8/20', '7/9/20',\n",
      "       '7/10/20', '7/11/20', '7/12/20'],\n",
      "      dtype='object', name='index')\n"
     ]
    },
    {
     "name": "stdout",
     "output_type": "stream",
     "text": [
      "actual\n",
      "observation      index hospitalized confirmed deceased recovered\n",
      "52          2020-06-13         4686     11722      469      6567\n",
      "53          2020-06-14         4954     12184      480      6750\n",
      "54          2020-06-15         4954     12184      480      6750\n",
      "55          2020-06-16         4646     12419      494      7279\n",
      "56          2020-06-17         5230     13250      610      7410\n",
      "57          2020-06-18         5230     13250      610      7410\n",
      "58          2020-06-19         5805     14000      610      7585\n",
      "59          2020-06-20         6074     14704      610      8020\n",
      "60          2020-06-21         6658     15881      601      8622\n",
      "61          2020-06-22         7071     16474      612      8791\n",
      "62          2020-06-23         7141     16907      624      9142\n",
      "63          2020-06-24         7401     17445      637      9407\n",
      "64          2020-06-25         7650     18015      659      9706\n",
      "65          2020-06-26         8331     19031      675     10025\n",
      "66          2020-06-27         8331     19031      675     10025\n",
      "67          2020-06-28         9448     20870      714     10708\n",
      "68          2020-06-29         9620     21303      740     10943\n",
      "69          2020-06-30        10305     22327      752     11270\n",
      "70          2020-07-01        10989     23317      783     11545\n",
      "71          2020-07-02        11640     24432      807     11985\n",
      "72          2020-07-03        12410     25454      826     12218\n",
      "73          2020-07-04        13051     26956      841     13064\n",
      "74          2020-07-05        13864     28142      872     13406\n",
      "75          2020-07-06        14106     28966      889     13971\n",
      "76          2020-07-07        14892     30131      926     14313\n",
      "77          2020-07-08        15932     31704      962     14810\n",
      "78          2020-07-09        17226     33394      989     15179\n",
      "79          2020-07-10        18680     35232     1026     15526\n",
      "80          2020-07-11        18680     35232     1026     15526\n",
      "81          2020-07-12        20280     37356     1060     16016\n",
      "get_subset\n",
      "observation      index hospitalized confirmed deceased recovered\n",
      "52          2020-06-13         4686     11722      469      6567\n",
      "53          2020-06-14         4954     12184      480      6750\n",
      "54          2020-06-15         4954     12184      480      6750\n",
      "55          2020-06-16         4646     12419      494      7279\n",
      "56          2020-06-17         5230     13250      610      7410\n",
      "57          2020-06-18         5230     13250      610      7410\n",
      "58          2020-06-19         5805     14000      610      7585\n",
      "59          2020-06-20         6074     14704      610      8020\n",
      "60          2020-06-21         6658     15881      601      8622\n",
      "61          2020-06-22         7071     16474      612      8791\n",
      "62          2020-06-23         7141     16907      624      9142\n",
      "63          2020-06-24         7401     17445      637      9407\n",
      "64          2020-06-25         7650     18015      659      9706\n",
      "65          2020-06-26         8331     19031      675     10025\n",
      "66          2020-06-27         8331     19031      675     10025\n",
      "67          2020-06-28         9448     20870      714     10708\n",
      "68          2020-06-29         9620     21303      740     10943\n",
      "69          2020-06-30        10305     22327      752     11270\n",
      "70          2020-07-01        10989     23317      783     11545\n",
      "71          2020-07-02        11640     24432      807     11985\n",
      "72          2020-07-03        12410     25454      826     12218\n",
      "73          2020-07-04        13051     26956      841     13064\n",
      "74          2020-07-05        13864     28142      872     13406\n",
      "75          2020-07-06        14106     28966      889     13971\n",
      "76          2020-07-07        14892     30131      926     14313\n",
      "77          2020-07-08        15932     31704      962     14810\n",
      "78          2020-07-09        17226     33394      989     15179\n",
      "79          2020-07-10        18680     35232     1026     15526\n",
      "80          2020-07-11        18680     35232     1026     15526\n",
      "81          2020-07-12        20280     37356     1060     16016\n",
      "Index(['index', 'hospitalized', 'confirmed', 'deceased', 'recovered'], dtype='object', name='observation')\n"
     ]
    },
    {
     "ename": "KeyError",
     "evalue": "\"None of ['observation'] are in the columns\"",
     "output_type": "error",
     "traceback": [
      "\u001b[0;31m---------------------------------------------------------------------------\u001b[0m",
      "\u001b[0;31mKeyError\u001b[0m                                  Traceback (most recent call last)",
      "\u001b[0;32m<ipython-input-10-ee8ca3b1cc92>\u001b[0m in \u001b[0;36m<module>\u001b[0;34m\u001b[0m\n\u001b[1;32m      1\u001b[0m \u001b[0;31m# NO EDIT CELL\u001b[0m\u001b[0;34m\u001b[0m\u001b[0;34m\u001b[0m\u001b[0;34m\u001b[0m\u001b[0m\n\u001b[0;32m----> 2\u001b[0;31m \u001b[0mparams\u001b[0m\u001b[0;34m,\u001b[0m \u001b[0mmetrics\u001b[0m\u001b[0;34m,\u001b[0m \u001b[0mtrain1_params\u001b[0m\u001b[0;34m,\u001b[0m \u001b[0mtrain2_params\u001b[0m \u001b[0;34m=\u001b[0m \u001b[0mcurrent_session\u001b[0m\u001b[0;34m.\u001b[0m\u001b[0mbuild_models_and_generate_forecast\u001b[0m\u001b[0;34m(\u001b[0m\u001b[0;34m)\u001b[0m\u001b[0;34m\u001b[0m\u001b[0;34m\u001b[0m\u001b[0m\n\u001b[0m",
      "\u001b[0;32m~/projects/covid/covid19-india/src/model_building_utils_new.py\u001b[0m in \u001b[0;36mbuild_models_and_generate_forecast\u001b[0;34m(self)\u001b[0m\n\u001b[1;32m    402\u001b[0m         \u001b[0mself\u001b[0m\u001b[0;34m.\u001b[0m\u001b[0m_validate_params_for_function\u001b[0m\u001b[0;34m(\u001b[0m\u001b[0;34m'build_models_and_generate_forecast'\u001b[0m\u001b[0;34m)\u001b[0m\u001b[0;34m\u001b[0m\u001b[0;34m\u001b[0m\u001b[0m\n\u001b[1;32m    403\u001b[0m         \u001b[0msp\u001b[0m \u001b[0;34m=\u001b[0m \u001b[0mself\u001b[0m\u001b[0;34m.\u001b[0m\u001b[0mparams\u001b[0m\u001b[0;34m\u001b[0m\u001b[0;34m\u001b[0m\u001b[0m\n\u001b[0;32m--> 404\u001b[0;31m         outputs = ModelBuildingSession.build_models_and_generate_forecast_static(True, sp.region_name, sp.region_type,\n\u001b[0m\u001b[1;32m    405\u001b[0m                                                                                  \u001b[0msp\u001b[0m\u001b[0;34m.\u001b[0m\u001b[0mdata_source\u001b[0m\u001b[0;34m,\u001b[0m\u001b[0;34m\u001b[0m\u001b[0;34m\u001b[0m\u001b[0m\n\u001b[1;32m    406\u001b[0m                                                                                  \u001b[0msp\u001b[0m\u001b[0;34m.\u001b[0m\u001b[0minput_data_file\u001b[0m\u001b[0;34m,\u001b[0m\u001b[0;34m\u001b[0m\u001b[0;34m\u001b[0m\u001b[0m\n",
      "\u001b[0;32m~/projects/covid/covid19-india/src/model_building_utils_new.py\u001b[0m in \u001b[0;36mbuild_models_and_generate_forecast_static\u001b[0;34m(verbose, region_name, region_type, data_source, input_filepath, time_interval_config, model_class, model_parameters, train_loss_function, search_space, search_parameters, eval_loss_functions, uncertainty_parameters, output_artifacts)\u001b[0m\n\u001b[1;32m    437\u001b[0m                                                          uncertainty_parameters, output_artifacts)\n\u001b[1;32m    438\u001b[0m \u001b[0;34m\u001b[0m\u001b[0m\n\u001b[0;32m--> 439\u001b[0;31m         ModelBuildingSession.forecast_and_plot_static(region_name, region_type, data_source,\n\u001b[0m\u001b[1;32m    440\u001b[0m                                                       \u001b[0minput_filepath\u001b[0m\u001b[0;34m,\u001b[0m \u001b[0mtime_interval_config\u001b[0m\u001b[0;34m,\u001b[0m \u001b[0mmodel_class\u001b[0m\u001b[0;34m,\u001b[0m\u001b[0;34m\u001b[0m\u001b[0;34m\u001b[0m\u001b[0m\n\u001b[1;32m    441\u001b[0m                                                       \u001b[0mmodel_parameters\u001b[0m\u001b[0;34m,\u001b[0m\u001b[0;34m\u001b[0m\u001b[0;34m\u001b[0m\u001b[0m\n",
      "\u001b[0;32m~/projects/covid/covid19-india/src/model_building_utils_new.py\u001b[0m in \u001b[0;36mforecast_and_plot_static\u001b[0;34m(region_name, region_type, data_source, input_filepath, time_interval_config, model_class, model_parameters, uncertainty_parameters, output_artifacts, verbose)\u001b[0m\n\u001b[1;32m    587\u001b[0m         \u001b[0;31m# M1 train\u001b[0m\u001b[0;34m\u001b[0m\u001b[0;34m\u001b[0m\u001b[0;34m\u001b[0m\u001b[0m\n\u001b[1;32m    588\u001b[0m         \u001b[0;32mif\u001b[0m \u001b[0mverbose\u001b[0m\u001b[0;34m:\u001b[0m\u001b[0;34m\u001b[0m\u001b[0;34m\u001b[0m\u001b[0m\n\u001b[0;32m--> 589\u001b[0;31m             df_predictions_train_m1 = ModelBuildingSession.flexible_forecast(df_m1[\"actual\"], M1_model_params,\n\u001b[0m\u001b[1;32m    590\u001b[0m                                                                              \u001b[0mtrain1_run_day\u001b[0m\u001b[0;34m,\u001b[0m\u001b[0;34m\u001b[0m\u001b[0;34m\u001b[0m\u001b[0m\n\u001b[1;32m    591\u001b[0m                                                                              \u001b[0mtrain1_start_date\u001b[0m\u001b[0;34m,\u001b[0m \u001b[0mforecast_end_date\u001b[0m\u001b[0;34m,\u001b[0m\u001b[0;34m\u001b[0m\u001b[0;34m\u001b[0m\u001b[0m\n",
      "\u001b[0;32m~/projects/covid/covid19-india/src/model_building_utils_new.py\u001b[0m in \u001b[0;36mflexible_forecast\u001b[0;34m(actual, model_params, forecast_run_day, forecast_start_date, forecast_end_date, forecast_trim_day, forecast_config, with_uncertainty, include_best_fit)\u001b[0m\n\u001b[1;32m    725\u001b[0m         \u001b[0mprint\u001b[0m\u001b[0;34m(\u001b[0m\u001b[0;34m\"actual\"\u001b[0m\u001b[0;34m)\u001b[0m\u001b[0;34m\u001b[0m\u001b[0;34m\u001b[0m\u001b[0m\n\u001b[1;32m    726\u001b[0m         \u001b[0mprint\u001b[0m\u001b[0;34m(\u001b[0m\u001b[0mactual\u001b[0m\u001b[0;34m)\u001b[0m\u001b[0;34m\u001b[0m\u001b[0;34m\u001b[0m\u001b[0m\n\u001b[0;32m--> 727\u001b[0;31m         forecast_df = add_init_observations_to_predictions(actual, forecast_df,\n\u001b[0m\u001b[1;32m    728\u001b[0m                                                            forecast_run_day)\n\u001b[1;32m    729\u001b[0m         \u001b[0mforecast_df\u001b[0m\u001b[0;34m[\u001b[0m\u001b[0;34m'date'\u001b[0m\u001b[0;34m]\u001b[0m \u001b[0;34m=\u001b[0m \u001b[0mpd\u001b[0m\u001b[0;34m.\u001b[0m\u001b[0mto_datetime\u001b[0m\u001b[0;34m(\u001b[0m\u001b[0mforecast_df\u001b[0m\u001b[0;34m[\u001b[0m\u001b[0;34m'date'\u001b[0m\u001b[0;34m]\u001b[0m\u001b[0;34m)\u001b[0m\u001b[0;34m\u001b[0m\u001b[0;34m\u001b[0m\u001b[0m\n",
      "\u001b[0;32m~/projects/covid/covid19-india/src/utils/data_transformer_helper.py\u001b[0m in \u001b[0;36madd_init_observations_to_predictions\u001b[0;34m(df_actual, df_predictions, run_day)\u001b[0m\n\u001b[1;32m    164\u001b[0m \u001b[0;32mdef\u001b[0m \u001b[0madd_init_observations_to_predictions\u001b[0m\u001b[0;34m(\u001b[0m\u001b[0mdf_actual\u001b[0m\u001b[0;34m,\u001b[0m \u001b[0mdf_predictions\u001b[0m\u001b[0;34m,\u001b[0m \u001b[0mrun_day\u001b[0m\u001b[0;34m)\u001b[0m\u001b[0;34m:\u001b[0m\u001b[0;34m\u001b[0m\u001b[0;34m\u001b[0m\u001b[0m\n\u001b[1;32m    165\u001b[0m \u001b[0;34m\u001b[0m\u001b[0m\n\u001b[0;32m--> 166\u001b[0;31m     \u001b[0minit_observations\u001b[0m \u001b[0;34m=\u001b[0m \u001b[0mget_observations_subset\u001b[0m\u001b[0;34m(\u001b[0m\u001b[0mdf_actual\u001b[0m\u001b[0;34m,\u001b[0m \u001b[0mrun_day\u001b[0m\u001b[0;34m,\u001b[0m \u001b[0mrun_day\u001b[0m\u001b[0;34m)\u001b[0m\u001b[0;34m\u001b[0m\u001b[0;34m\u001b[0m\u001b[0m\n\u001b[0m\u001b[1;32m    167\u001b[0m     \u001b[0minit_observations_df\u001b[0m \u001b[0;34m=\u001b[0m \u001b[0mpd\u001b[0m\u001b[0;34m.\u001b[0m\u001b[0mDataFrame\u001b[0m\u001b[0;34m(\u001b[0m\u001b[0mcolumns\u001b[0m\u001b[0;34m=\u001b[0m\u001b[0mdf_predictions\u001b[0m\u001b[0;34m.\u001b[0m\u001b[0mcolumns\u001b[0m\u001b[0;34m)\u001b[0m\u001b[0;34m\u001b[0m\u001b[0;34m\u001b[0m\u001b[0m\n\u001b[1;32m    168\u001b[0m     \u001b[0;32mfor\u001b[0m \u001b[0mcol\u001b[0m \u001b[0;32min\u001b[0m \u001b[0minit_observations_df\u001b[0m\u001b[0;34m.\u001b[0m\u001b[0mcolumns\u001b[0m\u001b[0;34m:\u001b[0m\u001b[0;34m\u001b[0m\u001b[0;34m\u001b[0m\u001b[0m\n",
      "\u001b[0;32m~/projects/covid/covid19-india/src/utils/data_transformer_helper.py\u001b[0m in \u001b[0;36mget_observations_subset\u001b[0;34m(df_actual, start_date, end_date)\u001b[0m\n\u001b[1;32m    146\u001b[0m     \u001b[0mprint\u001b[0m\u001b[0;34m(\u001b[0m\u001b[0mdf_actual\u001b[0m\u001b[0;34m)\u001b[0m\u001b[0;34m\u001b[0m\u001b[0;34m\u001b[0m\u001b[0m\n\u001b[1;32m    147\u001b[0m     \u001b[0mprint\u001b[0m\u001b[0;34m(\u001b[0m\u001b[0mdf_actual\u001b[0m\u001b[0;34m.\u001b[0m\u001b[0mcolumns\u001b[0m\u001b[0;34m)\u001b[0m\u001b[0;34m\u001b[0m\u001b[0;34m\u001b[0m\u001b[0m\n\u001b[0;32m--> 148\u001b[0;31m     \u001b[0mdf_actual\u001b[0m \u001b[0;34m=\u001b[0m \u001b[0mdf_actual\u001b[0m\u001b[0;34m.\u001b[0m\u001b[0mset_index\u001b[0m\u001b[0;34m(\u001b[0m\u001b[0;34m'observation'\u001b[0m\u001b[0;34m)\u001b[0m\u001b[0;34m\u001b[0m\u001b[0;34m\u001b[0m\u001b[0m\n\u001b[0m\u001b[1;32m    149\u001b[0m     \u001b[0mdf_actual\u001b[0m \u001b[0;34m=\u001b[0m \u001b[0mdf_actual\u001b[0m\u001b[0;34m.\u001b[0m\u001b[0mtranspose\u001b[0m\u001b[0;34m(\u001b[0m\u001b[0;34m)\u001b[0m\u001b[0;34m.\u001b[0m\u001b[0mreset_index\u001b[0m\u001b[0;34m(\u001b[0m\u001b[0;34m)\u001b[0m\u001b[0;34m\u001b[0m\u001b[0;34m\u001b[0m\u001b[0m\n\u001b[1;32m    150\u001b[0m     \u001b[0;32mif\u001b[0m \u001b[0mstart_date\u001b[0m \u001b[0;32mis\u001b[0m \u001b[0;32mnot\u001b[0m \u001b[0;32mNone\u001b[0m\u001b[0;34m:\u001b[0m\u001b[0;34m\u001b[0m\u001b[0;34m\u001b[0m\u001b[0m\n",
      "\u001b[0;32m~/anaconda3/envs/covidv/lib/python3.8/site-packages/pandas/core/frame.py\u001b[0m in \u001b[0;36mset_index\u001b[0;34m(self, keys, drop, append, inplace, verify_integrity)\u001b[0m\n\u001b[1;32m   4301\u001b[0m \u001b[0;34m\u001b[0m\u001b[0m\n\u001b[1;32m   4302\u001b[0m         \u001b[0;32mif\u001b[0m \u001b[0mmissing\u001b[0m\u001b[0;34m:\u001b[0m\u001b[0;34m\u001b[0m\u001b[0;34m\u001b[0m\u001b[0m\n\u001b[0;32m-> 4303\u001b[0;31m             \u001b[0;32mraise\u001b[0m \u001b[0mKeyError\u001b[0m\u001b[0;34m(\u001b[0m\u001b[0;34mf\"None of {missing} are in the columns\"\u001b[0m\u001b[0;34m)\u001b[0m\u001b[0;34m\u001b[0m\u001b[0;34m\u001b[0m\u001b[0m\n\u001b[0m\u001b[1;32m   4304\u001b[0m \u001b[0;34m\u001b[0m\u001b[0m\n\u001b[1;32m   4305\u001b[0m         \u001b[0;32mif\u001b[0m \u001b[0minplace\u001b[0m\u001b[0;34m:\u001b[0m\u001b[0;34m\u001b[0m\u001b[0;34m\u001b[0m\u001b[0m\n",
      "\u001b[0;31mKeyError\u001b[0m: \"None of ['observation'] are in the columns\""
     ]
    }
   ],
   "source": [
    "# NO EDIT CELL\n",
    "params, metrics, train1_params, train2_params = current_session.build_models_and_generate_forecast()"
   ]
  },
  {
   "cell_type": "code",
   "execution_count": null,
   "metadata": {},
   "outputs": [],
   "source": [
    "# current_session.render_report()"
   ]
  },
  {
   "cell_type": "markdown",
   "metadata": {},
   "source": [
    "### Output Interpretation & Troubleshooting\n",
    "\n",
    "* <TODO:ADD> "
   ]
  },
  {
   "cell_type": "markdown",
   "metadata": {},
   "source": [
    "# Step 4: Planning and What-if Scenarios"
   ]
  },
  {
   "cell_type": "markdown",
   "metadata": {},
   "source": [
    "* **Description**: Generate planning forecasts as per the specified configuration\n",
    "\n",
    "* **Inputs**: \n",
    "    * region_name: REGION_NAME\n",
    "        * valid region name\n",
    "    * region_type: REGION_TYPE\n",
    "        * valid region type from ['country','state','district']\n",
    "    * uncertainty_config: UncertaintyConfig\n",
    "        * planning level, confidence interval bounds, mean inclusion \n",
    "        * see <TODO:add links> for more details (default =mb.UNCERTAINTY_CONFIG)\n",
    "    * scenarios_config: ScenarioConfig, optional\n",
    "        * parameter choices/multipliers for various scenarios\n",
    "        * see <TODO:add links> for more details (default =mb.SCENARIO_CONFIG)\n",
    "    * model: ModelWrapperBase, optional \n",
    "        * model to be used for uncertainty generation \n",
    "    * planning_output_report_file: str, optional\n",
    "        * filepath for the report that contains output needed for planning\n",
    "\n",
    "    \n",
    "* **Outputs**:\n",
    "    * planning_artifact_list: list[str]\n",
    "        * list of artifact files (e.g., plots, csvs, reports) generated  "
   ]
  },
  {
   "cell_type": "markdown",
   "metadata": {},
   "source": [
    "### Input Choice Tips\n",
    "\n",
    "* As before, there should really be no need to set parameters that are already set even though they are presented again\n",
    "* There is also no need to change the output artifact filepaths \n",
    "* **Typical User Setup**: \n",
    "    * **Uncertainty Config:**\n",
    "        * **planning_level**: 70 or 80 percentile is a good level to plan for, but this can be adjusted based on the stage of the pandemic. In early stages, a higher level might be required, while in mid to later stages, a lower level might suffice. \n",
    "        * **include_mean**: preferable to set it to true (default =true) so that it is shown in the plot\n",
    "        * **confidence_interval**: needs to be set based on the how the information is likely to be consumed. Standard use is a 90% or 95% confidence interval (bounds are 5%-95% and 2.5%-97.5%) as long as the semantics are well understood by the end users. \n",
    "    \n",
    "* **Expert User Setup**: \n",
    "    * If required, experts familiar with epidemiological parameters can also generate forecasts for other scenarios based on planning level. It is also possible to use a different model as the basis for the scenarios instead of the current one.  All the relevant input parameters and the associated information is described under \"generate_planning_forecasts\" in ModelBuildingParameters <TODO:ADDLinks>\n",
    "\n",
    "\n"
   ]
  },
  {
   "cell_type": "code",
   "execution_count": null,
   "metadata": {},
   "outputs": [],
   "source": [
    "# EDIT CELL: SET INPUT VALUES AS REQUIRED\n",
    "\n",
    "# ALREADY SET PARAMETERS\n",
    "#current_session.set_param('region_type', <user_input:region_type>)\n",
    "#current_session.set_param('region_name', <user_input:region_name>)\n",
    "\n",
    "\n",
    "# MANDATORY PARAMETERS \n",
    "current_session.set_param('planning_level', 80)\n",
    "current_session.set_param('staff_ratios_file_path', '../data/staffing_ratios.csv')\n",
    "\n",
    "# OPTIONAL PARAMETERS \n",
    "#current_session.set_param('planning_output_report_file',<user_input:planning_output_report_file>)\n",
    "# Uncertainty config\n",
    "#current_session.set_param('uncertainty_config.include_mean',<user_input:uncertainty_config.include_mean>)\n",
    "#current_session.set_param('uncertainty_config.confidence_interval.lower_bound',<user_input:uncertainty_config.confidence_interval.lower_bound>)\n",
    "#current_session.set_param('uncertainty_config.confidence_interval.upper_bound',<user_input:uncertainty_config.confidence_interval.upper_bound>)\n"
   ]
  },
  {
   "cell_type": "code",
   "execution_count": null,
   "metadata": {},
   "outputs": [],
   "source": [
    "# EXPERT USER SET UP (PLEASE DO NOT EDIT UNLESS REALLY REQUIRED)\n",
    "# EDIT CELL:\n",
    "\n",
    "# OPTIONAL PARAMETERS FOR EXPERTS\n",
    "# Any input parameter of generate_planning_outputs in ModelBuildingParameter.pdf can be adjusted similar to below example \n",
    "\n",
    "current_session.set_param('rt_multiplier_list', [0.9, 1.1, 1.2])"
   ]
  },
  {
   "cell_type": "code",
   "execution_count": null,
   "metadata": {},
   "outputs": [],
   "source": [
    "# NO EDIT CELL\n",
    "planning_outputs = current_session.generate_planning_outputs()"
   ]
  },
  {
   "cell_type": "markdown",
   "metadata": {},
   "source": [
    "### Output Interpretation & Troubleshooting\n",
    "\n",
    "* * <TODO:ADD> After the implementation"
   ]
  },
  {
   "cell_type": "markdown",
   "metadata": {},
   "source": [
    "# Step 5: View Current Forecast Outputs"
   ]
  },
  {
   "cell_type": "markdown",
   "metadata": {},
   "source": [
    "* **Description**: Lists all the outputs and metadata of all the previous steps of model building session to review again if necessary\n",
    "\n",
    "* **Inputs**: \n",
    "    * None    \n",
    "* **Outputs**:\n",
    "    * None "
   ]
  },
  {
   "cell_type": "code",
   "execution_count": null,
   "metadata": {},
   "outputs": [],
   "source": [
    "# NO EDIT CELL\n",
    "current_session.list_outputs()"
   ]
  },
  {
   "cell_type": "markdown",
   "metadata": {},
   "source": [
    "# Step 6:  Publish Current Forecast Outputs"
   ]
  },
  {
   "cell_type": "markdown",
   "metadata": {},
   "source": [
    "* **Description**: Sets the forecast publish status and add text comments or questions on the model building session and logs this on MLFlow\n",
    "* **Inputs**: \n",
    "    * publish_status: bool\n",
    "        * true for publishing and false otherwise\n",
    "    * comments: str\n",
    "        * short note on key observations and questions on the model building session \n",
    "* **Outputs**:\n",
    "    * None \n",
    "    "
   ]
  },
  {
   "cell_type": "markdown",
   "metadata": {},
   "source": [
    "### Input Choice Tips\n",
    "\n",
    "* **publish_status**: choose true if the forecast generated seems good enough\n",
    "* **comments**: notes related to data, input choices, trends, questions on model choices. A detailed list of items to consider while reviewing the model building process is provided in ForecastModelReview.pdf <TODO:ADDLinks> "
   ]
  },
  {
   "cell_type": "code",
   "execution_count": null,
   "metadata": {},
   "outputs": [],
   "source": [
    "# EDIT CELL: SET INPUT VALUES AS REQUIRED\n",
    "\n",
    "# MANDATORY PARAMETERS \n",
    "current_session.set_param('publish_status',True)\n",
    "\n",
    "# OPTIONAL PARAMETERS \n",
    "current_session.set_param('comments','all good so far')\n",
    "current_session.set_param('questions','What is the R0?')"
   ]
  },
  {
   "cell_type": "code",
   "execution_count": null,
   "metadata": {},
   "outputs": [],
   "source": [
    "# NO EDIT CELL\n",
    "current_session.log_session()"
   ]
  },
  {
   "cell_type": "markdown",
   "metadata": {},
   "source": [
    "### Output Interpretation & Troubleshooting\n",
    "\n",
    "* <TODO:ADD> any MLFlow problems - e.g., if internet is slow or disconnected, what happens?"
   ]
  },
  {
   "cell_type": "markdown",
   "metadata": {},
   "source": [
    "## "
   ]
  }
 ],
 "metadata": {
  "kernelspec": {
   "display_name": "Python 3",
   "language": "python",
   "name": "python3"
  },
  "language_info": {
   "codemirror_mode": {
    "name": "ipython",
    "version": 3
   },
   "file_extension": ".py",
   "mimetype": "text/x-python",
   "name": "python",
   "nbconvert_exporter": "python",
   "pygments_lexer": "ipython3",
   "version": "3.8.3"
  }
 },
 "nbformat": 4,
 "nbformat_minor": 4
}
