{
 "cells": [
  {
   "cell_type": "markdown",
   "metadata": {},
   "source": [
    "# Overview"
   ]
  },
  {
   "cell_type": "markdown",
   "metadata": {},
   "source": [
    "* Table of contents (with links)\n",
    "* Introduction\n",
    "* Purpose of the notebook\n",
    "* Key steps (include a picture)\n",
    "   * Step 0: Initialize Session\n",
    "   * Step 1: View Past Forecasts\n",
    "   * Step 2: Examine Data\n",
    "   * Step 3: Build Model and Generate Forecasts\n",
    "   * Step 4: Planning & What-if Scenarios\n",
    "   * Step 5: Review Outputs\n",
    "   * Step 6: Publish Current Forecast Outputs\n",
    "* Organization of the notebook\n",
    "   * Each of the above steps has the following components \n",
    "       * Description of the step,\n",
    "       * Tips on input parameter choices\n",
    "       * Code cells (edit, edit- only by expert users, no edit) \n",
    "       * Tips on interpreting outputs and troubleshooting\n",
    "* Prerequisites for running the notebook\n",
    "* Additional resources"
   ]
  },
  {
   "cell_type": "markdown",
   "metadata": {},
   "source": [
    "## Imports "
   ]
  },
  {
   "cell_type": "code",
   "execution_count": null,
   "metadata": {},
   "outputs": [],
   "source": [
    "%load_ext autoreload\n",
    "%autoreload 2\n",
    "\n",
    "from model_building_utils import ModelBuildingSession"
   ]
  },
  {
   "cell_type": "markdown",
   "metadata": {},
   "source": [
    "# Step 0: Set Session variables"
   ]
  },
  {
   "cell_type": "markdown",
   "metadata": {},
   "source": [
    "* **Description**: Creates a session object to track session level variables that do not have to be repeated and sets up the default model building configuration as well as logging of outputs\n",
    "\n",
    "* **Inputs**: \n",
    "    * session_name: str, optional\n",
    "        * Session name to be used for tracking in MLFlow or logs, otherwise default will be constructed from username and  timestamp (default = user name + timestamp)\n",
    "    * user_name: str, optional\n",
    "        * User name will be used for creating session_name if unspecified (default ='guest')\n",
    "        \n",
    "* **Outputs**:\n",
    "    * curr_session: ModelBuildingSession\n",
    "        * Session object loaded with the default model building configuration\n",
    "        "
   ]
  },
  {
   "cell_type": "markdown",
   "metadata": {},
   "source": [
    "### Input Choice Tips\n",
    "\n",
    "* **session_name** : Pick a name that combines the key elements(region, train interval, runday)"
   ]
  },
  {
   "cell_type": "code",
   "execution_count": null,
   "metadata": {},
   "outputs": [],
   "source": [
    "# EDIT CELL: SET INPUT VALUES AS REQUIRED\n",
    "\n",
    "# OPTIONAL PARAMETERS\n",
    "user_name = 'guest'\n",
    "session_name = 'del'"
   ]
  },
  {
   "cell_type": "code",
   "execution_count": null,
   "metadata": {},
   "outputs": [],
   "source": [
    "# NO EDIT CELL\n",
    "current_session = ModelBuildingSession.create_session(session_name,user_name)"
   ]
  },
  {
   "cell_type": "markdown",
   "metadata": {},
   "source": [
    "### Output Interpretation & Troubleshooting\n",
    "\n",
    "* Parameters of the ModelBuildingSession can be examined and set using get_params(), set_params() methods. See the documentation on <TODO:AddLinks> ModelBuildingSession class\n",
    "* [ML Flow Tracking](https://mlflow.org/docs/latest/tracking.html#tracking) is an open source platform that enables tracking of experiments. Each model building session is logged as a run along with the associated meta data and artifacts \n",
    "* The local folder session_name + \"_ \" outputs/ will contain all the output artifacts associated with the current session. If a function generating artifacts is rerun without changing the artifact filepaths, then they will get overwritten. \n",
    "* To start a new run, we have to create a new session by running the above cell again with a new session_name "
   ]
  },
  {
   "cell_type": "markdown",
   "metadata": {},
   "source": [
    "# Step 1: View Past Forecasts"
   ]
  },
  {
   "cell_type": "markdown",
   "metadata": {},
   "source": [
    "* **Description**: Returns links to previously generated forecasts for the specified region\n",
    "\n",
    "* **Inputs**: \n",
    "   * region_type: REGION_TYPE\n",
    "       * valid region type from ['country','state','district','other']\n",
    "   * region_name: REGION_NAME\n",
    "       * valid region name\n",
    "   * experiment_name: EXPERIMENT_NAME\n",
    "       * valid experiment name (default: SEIHRD_ENSEMBLE_V0)\n",
    "   * interval_to_consider: int, optional\n",
    "       * number of past days to consider for retrieving runs (default =0)\n",
    "       \n",
    "* **Outputs**:\n",
    "    * run_links: list[URL]\n",
    "        * list of URLs corresponding to relevant \"published\" ML-Flow links (for now returns a pandas df containing links)"
   ]
  },
  {
   "cell_type": "markdown",
   "metadata": {},
   "source": [
    "### Input Choice Tips\n",
    "\n",
    "* **region_type**: 'other' can be used for smaller regions or stratification by some groups (e.g., slums in a region) along with 'csv' source\n",
    "* **region_name**: Please make sure the spelling and the case of the region_name is correct. Here is a list <TODO:ADDLinks> of valid regions.\n",
    "* **interval_to_consider**: It is useful to look at the data trends/model parameters from at least one  earlier forecast and contrast that with the current one. "
   ]
  },
  {
   "cell_type": "code",
   "execution_count": null,
   "metadata": {},
   "outputs": [],
   "source": [
    "# EDIT CELL: SET INPUT VALUES AS REQUIRED\n",
    "\n",
    "# MANDATORY PARAMETERS\n",
    "current_session.set_field('region_name', 'pune')\n",
    "current_session.set_field('region_type', 'district')\n",
    "\n",
    "# OPTIONAL PARAMETERS\n",
    "current_session.set_field('interval_to_consider',50)"
   ]
  },
  {
   "cell_type": "code",
   "execution_count": null,
   "metadata": {},
   "outputs": [],
   "source": [
    "# NO EDIT CELL\n",
    "current_session.view_forecasts()"
   ]
  },
  {
   "cell_type": "markdown",
   "metadata": {},
   "source": [
    "### Output Interpretation & Troubleshooting\n",
    "\n",
    "*  <TODO:ADD> "
   ]
  },
  {
   "cell_type": "markdown",
   "metadata": {},
   "source": [
    "# Step 2: Examine Data"
   ]
  },
  {
   "cell_type": "markdown",
   "metadata": {},
   "source": [
    "* **Description**: Obtains case count data for specified region and displays it \n",
    "    as a table and a plot, and writes out the plot as specified \n",
    "\n",
    "* **Inputs**: \n",
    "    * region_type: REGION_TYPE\n",
    "        * valid region type from ['country','state','district']\n",
    "    * region_name: REGION_NAME\n",
    "        * valid region name\n",
    "    * data_source_type: DATA_SOURCE_TYPE\n",
    "        * valid source type from ['official','tracker','csv']\n",
    "    * data_filepath: str, optional\n",
    "        * valid local file path of csv file to be uploaded, required only for 'csv' source  \n",
    "    * case_cnt_plot_file_name: str, optional\n",
    "        * file_path where the plot file will be written (default =\"case_cnt_data_observed.png\")\n",
    "    * case_cnt_csv_file_name: str, optional\n",
    "        * file_path for output of a standard csv with date and CARD variables (default =\"case_cnt_data.csv\")\n",
    "        \n",
    "* **Outputs**:\n",
    "    * case_cnt_data: pandas.DataFrame\n",
    "        * dataframe in a standard format with date and CARD variables"
   ]
  },
  {
   "cell_type": "markdown",
   "metadata": {},
   "source": [
    "### Input Choice Tips\n",
    "\n",
    "* There is no need to set parameters that are already set (e.g., region_name) \n",
    "* It is preferable to allow output artifact filepaths (e.g., case_cnt_plot_file_name) to also remain as defaults unless there is specific requirement\n",
    "* **data_filepath**  needs to be set only when the source is csv. \n",
    "* Sanity checking has to be done externally for now"
   ]
  },
  {
   "cell_type": "code",
   "execution_count": null,
   "metadata": {},
   "outputs": [],
   "source": [
    "# EDIT CELL: SET INPUT VALUES AS REQUIRED\n",
    "\n",
    "# ALREADY SET PARAMETERS\n",
    "#current_session.set_field('region_type', <user_input:region_type>)\n",
    "#current_session.set_field('region_name', <user_input:region_name>)\n",
    "\n",
    "# MANDATORY PARAMETERS\n",
    "current_session.set_field('data_source', 'direct_csv')\n",
    "current_session.set_field('input_file_path', '/Users/nayana/projects/covid/covid19-india/data/pune.csv')\n"
   ]
  },
  {
   "cell_type": "code",
   "execution_count": null,
   "metadata": {},
   "outputs": [],
   "source": [
    "# NO EDIT CELL\n",
    "current_session.examine_data()"
   ]
  },
  {
   "cell_type": "markdown",
   "metadata": {},
   "source": [
    "### Output Interpretation & Troubleshooting\n",
    "\n",
    "* Examine the plot for basic data sanity checks\n",
    "    * Are all numbers non-negative?\n",
    "    * Are C,R,D monotonically increasing ?\n",
    "    * Are there flat regions indicating no data updates for this period ?\n",
    "    * Is there discontinuous behavior (arbitrary spikes) requiring rolling average smoothing?\n",
    "    * Are there dates with missing observations? \n",
    "* From the output data frame, more checks can be performed\n",
    "    * Is C=A+R+D ?\n",
    "* Decide on training and forecast periods \n",
    "    * What is a stable recent period from which can be used for building the new models\n",
    "    * Is the forecast period likely to follow the behavior of the stable training period?\n",
    "* Decide on which variables are reliable to determine the relative weights in loss function\n",
    "    * Are there any spikes that make recoveries or deaths unreliable in some regions ?\n",
    "    "
   ]
  },
  {
   "cell_type": "markdown",
   "metadata": {},
   "source": [
    "# Step 3: Build Models  & Generate Forecasts"
   ]
  },
  {
   "cell_type": "markdown",
   "metadata": {},
   "source": [
    "* **Description**: Build models as per the specified configuration, generate train, evaluation reports and also forecasts\n",
    "\n",
    "* **Inputs**: \n",
    "    * region_type: REGION_TYPE\n",
    "        * valid region type from ['country','state','district']\n",
    "    * region_name: REGION_NAME\n",
    "        * valid region name\n",
    "    * data_source_type: DATA_SOURCE_TYPE\n",
    "        * valid source type from ['official','tracker','csv']\n",
    "    * data_filepath: str\n",
    "        * valid local file path of csv file to be uploaded\n",
    "    * time_interval_config: TrainTestForecastDatesConfig\n",
    "        * dates to be used for training, evaluation and forecast\n",
    "        * see <TODO:add links> for more details (default =mb.TRAIN_TEST_FORECAST_CONFIG)\n",
    "    * model_class: MODEL_CLASS, optional\n",
    "        * valid model class in mb.MODEL_CLASS (default ='SEIHRD')\n",
    "    * num_trials: int, optional\n",
    "        * number of trials to be used for training (default ='1000')\n",
    "    * param_searchspace_config: ParamSearchSpaceConfig, optional\n",
    "        * search space limits, default values and fine-tunability of various configurations\n",
    "        * see <TODO:add links> for more details (default =mb.PARAM_SEARCHSPACE_CONFIG)\n",
    "    * train_loss_function_config: LossFunctionConfig, optional\n",
    "        * relative weighting of CARD variables & loss metric to be used for training\n",
    "        * see <TODO:add links> for more details (default =mb.TRAIN_LOSS_FUNCTION_CONFIG)\n",
    "    * eval_loss_function_config: list[LossFunctionConfig], optional\n",
    "        * all the loss functions required for evaluation\n",
    "        * see <TODO:add links> for more details (default =mb.EVAL_LOSS_FUNCTION_CONFIG)       \n",
    "    * forecast_percentiles: list[float], optional\n",
    "        * list of percentiles that need to be forecast    \n",
    "    * detailed_report_file: str, optional\n",
    "        * filepath for the detailed report of the model building run\n",
    "    * summary_report_file: str, optional\n",
    "        * filepath for the summary report of the model building run\n",
    "    * planning_input_report_file: str, optional\n",
    "        * filepath for the report that contains inputs needed for the planning step \n",
    "    \n",
    "* **Outputs**:\n",
    "    * model_building_params: dict\n",
    "        * flattened dict of input configuration used for the model building run\n",
    "    * model_building_metrics: dict\n",
    "        * flattened dict of output metrics from the model building run\n",
    "    * model_building_artifact_list: list[str]\n",
    "        * list of artifact files (e.g., jsons, plots, csvs, reports) generated"
   ]
  },
  {
   "cell_type": "markdown",
   "metadata": {},
   "source": [
    "### Input Choice Tips\n",
    "* As before, there should really be no need to set parameters that are already set even though they are presented again\n",
    "* There is also no need to change the output artifact filepaths\n",
    "* This step **does not have*** any mandatory inputs.  \n",
    "* **Typical User Setup**: \n",
    "    * **Relative weights of the variables:**\n",
    "        * If all the variables C, A, R, D are reliable and equally important for forecast accuracy, then we would wish to give equal weightage  to all of them. \n",
    "        * Note that, C, R and D are the independently observed variables and A is derived as A = C-R-D.  Skipping any one of the variables will still provide the same fits.\n",
    "        * Depending on the application or the modeling purpose, a certain variable, e.g., active cases (A) might be more important than the others and a higher relative weight would be appropriate in that case\n",
    "        * If any of the independent variables (e.g., recoveries R) is not reliable because of spikes or unlikely values, then it is preferable to just fit to the two other independent variables or at least adjust the relative weights accordingly\n",
    "    * **Forecast planning variable:**\n",
    "        * This is the variable that is primarily used for forecast planning and uncertainty estimation (default is Active case count A).\n",
    "    * **Dates for training, evaluation and forecasting:**\n",
    "        * **train_end_date**: chosen to be the latest date for which reliable data is available (default choice is d = previous day)\n",
    "        * **train_start_date**: chosen to be the earliest date since which observations can be used for the current analysis (default choice is  d-14 ). Due to govt policy and public behavior changes, the dynamics themselves are continuously evolving and it is preferable to keep this window small, but at the same adequate to estimate the model parameters in a relatively robust way. \n",
    "         * **backtesting_split_date**: chosen to be the date (default choice is d-7) that can be used to split the train period into two intervals, where the first interval is used for training the model that can be used for evaluation on the later interval. The later interval is then used to retrain the model used for forecasting. This process is described in more detail in Model Building Methodology<TODO:AddLinks>. \n",
    "         * **forecast_start_date**: chosen to be the date starting from which we need the forecast (default choice is the d'= next day)\n",
    "         * **forecast_end_date**: chosen to be the date till which we need the forecast (default choice is d'+30)\n",
    "         * **forecast_planning _date**: chosen to be the date to be used for medical planning and percentile calculations (default choice is the d'+15) \n",
    "\n",
    "* **Expert User Setup**: \n",
    "    * If required, experts familiar with epidemiological parameters can also play around with the default model parameters and training search space. All the model building parameters, default values and the relevant information for finetuning these are listed in ModelBuildingParameters <TODO:ADDLinks>"
   ]
  },
  {
   "cell_type": "code",
   "execution_count": null,
   "metadata": {},
   "outputs": [],
   "source": [
    "# EDIT CELL: SET INPUT VALUES AS REQUIRED\n",
    "\n",
    "# ALREADY SET PARAMETERS\n",
    "#current_session.set_param('region_type', <user_input:region_type>)\n",
    "#current_session.set_param('region_name', <user_input:region_name>)\n",
    "#current_session.set_param('data_source_type', <user_input:data_source_type>)\n",
    "#current_session.set_param('data_filepath', <user_input:data_filepath>)\n",
    "\n",
    "# MANDATORY PARAMETERS - NONE\n",
    "\n",
    "# Primary variable for forecast planning\n",
    "current_session.set_field('uncertainty_parameters.variable_of_interest', 'confirmed')\n",
    "\n",
    "# Dates for train, eval, forecast and planning \n",
    "\n",
    "current_session.set_field('time_interval_config.offset_based.reference_day', '7/12/20')\n",
    "current_session.set_field('time_interval_config.offset_based.train_period', 14)\n",
    "current_session.set_field('time_interval_config.offset_based.test_period', 7)\n",
    "current_session.set_field('time_interval_config.offset_based.forecast_period', 30)\n",
    "current_session.set_field('uncertainty_parameters.date_of_interest', '7/25/20')"
   ]
  },
  {
   "cell_type": "code",
   "execution_count": null,
   "metadata": {},
   "outputs": [],
   "source": [
    "# EXPERT USER SET UP (PLEASE DO NOT EDIT UNLESS REALLY REQUIRED)\n",
    "# EDIT CELL:\n",
    "\n",
    "# OPTIONAL PARAMETERS FOR EXPERTS\n",
    "# Any input parameter of build_models_and_generate_forecasts in ModelBuildingParameter.pdf can be adjusted similar to below example \n",
    "\n",
    "#current_session.set_param('param_searchspace_config.R_t.default_value',<user_input:param_searchspace_config.R_t.default_value>)\n"
   ]
  },
  {
   "cell_type": "code",
   "execution_count": null,
   "metadata": {
    "scrolled": false
   },
   "outputs": [],
   "source": [
    "# NO EDIT CELL\n",
    "outputs = current_session.build_models_and_generate_forecast()"
   ]
  },
  {
   "cell_type": "markdown",
   "metadata": {},
   "source": [
    "### Output Interpretation & Troubleshooting\n",
    "\n",
    "* <TODO:ADD> "
   ]
  },
  {
   "cell_type": "markdown",
   "metadata": {},
   "source": [
    "# Step 4: Planning and What-if Scenarios"
   ]
  },
  {
   "cell_type": "markdown",
   "metadata": {},
   "source": [
    "* **Description**: Generate planning forecasts as per the specified configuration\n",
    "\n",
    "* **Inputs**: \n",
    "    * region_name: REGION_NAME\n",
    "        * valid region name\n",
    "    * region_type: REGION_TYPE\n",
    "        * valid region type from ['country','state','district']\n",
    "    * uncertainty_config: UncertaintyConfig\n",
    "        * planning level, confidence interval bounds, mean inclusion \n",
    "        * see <TODO:add links> for more details (default =mb.UNCERTAINTY_CONFIG)\n",
    "    * scenarios_config: ScenarioConfig, optional\n",
    "        * parameter choices/multipliers for various scenarios\n",
    "        * see <TODO:add links> for more details (default =mb.SCENARIO_CONFIG)\n",
    "    * model: ModelWrapperBase, optional \n",
    "        * model to be used for uncertainty generation \n",
    "    * planning_output_report_file: str, optional\n",
    "        * filepath for the report that contains output needed for planning\n",
    "\n",
    "    \n",
    "* **Outputs**:\n",
    "    * planning_artifact_list: list[str]\n",
    "        * list of artifact files (e.g., plots, csvs, reports) generated  "
   ]
  },
  {
   "cell_type": "markdown",
   "metadata": {},
   "source": [
    "### Input Choice Tips\n",
    "\n",
    "* As before, there should really be no need to set parameters that are already set even though they are presented again\n",
    "* There is also no need to change the output artifact filepaths \n",
    "* **Typical User Setup**: \n",
    "    * **Uncertainty Config:**\n",
    "        * **planning_level**: 70 or 80 percentile is a good level to plan for, but this can be adjusted based on the stage of the pandemic. In early stages, a higher level might be required, while in mid to later stages, a lower level might suffice. \n",
    "        * **include_mean**: preferable to set it to true (default =true) so that it is shown in the plot\n",
    "        * **confidence_interval**: needs to be set based on the how the information is likely to be consumed. Standard use is a 90% or 95% confidence interval (bounds are 5%-95% and 2.5%-97.5%) as long as the semantics are well understood by the end users. \n",
    "    \n",
    "* **Expert User Setup**: \n",
    "    * If required, experts familiar with epidemiological parameters can also generate forecasts for other scenarios based on planning level. It is also possible to use a different model as the basis for the scenarios instead of the current one.  All the relevant input parameters and the associated information is described under \"generate_planning_forecasts\" in ModelBuildingParameters <TODO:ADDLinks>\n",
    "\n",
    "\n"
   ]
  },
  {
   "cell_type": "code",
   "execution_count": null,
   "metadata": {},
   "outputs": [],
   "source": [
    "# EDIT CELL: SET INPUT VALUES AS REQUIRED\n",
    "\n",
    "# ALREADY SET PARAMETERS\n",
    "#current_session.set_param('region_type', <user_input:region_type>)\n",
    "#current_session.set_param('region_name', <user_input:region_name>)\n",
    "\n",
    "\n",
    "# MANDATORY PARAMETERS \n",
    "current_session.set_field('planning.ref_level', 80)\n",
    "current_session.set_field('staffing.staffing_ratios_file', '../data/staffing_ratios.csv')\n",
    "\n",
    "# OPTIONAL PARAMETERS \n",
    "#current_session.set_param('planning_output_report_file',<user_input:planning_output_report_file>)\n",
    "# Uncertainty config\n",
    "#current_session.set_param('uncertainty_config.include_mean',<user_input:uncertainty_config.include_mean>)\n",
    "#current_session.set_param('uncertainty_config.confidence_interval.lower_bound',<user_input:uncertainty_config.confidence_interval.lower_bound>)\n",
    "#current_session.set_param('uncertainty_config.confidence_interval.upper_bound',<user_input:uncertainty_config.confidence_interval.upper_bound>)\n"
   ]
  },
  {
   "cell_type": "code",
   "execution_count": null,
   "metadata": {},
   "outputs": [],
   "source": [
    "# EXPERT USER SET UP (PLEASE DO NOT EDIT UNLESS REALLY REQUIRED)\n",
    "# EDIT CELL:\n",
    "\n",
    "# OPTIONAL PARAMETERS FOR EXPERTS\n",
    "# Any input parameter of generate_planning_outputs in ModelBuildingParameter.pdf can be adjusted similar to below example \n",
    "\n",
    "current_session.set_field('planning.rt_multiplier_list', [0.9, 1.1, 1.2])"
   ]
  },
  {
   "cell_type": "code",
   "execution_count": null,
   "metadata": {
    "scrolled": false
   },
   "outputs": [],
   "source": [
    "# NO EDIT CELL\n",
    "planning_outputs = current_session.generate_planning_outputs()"
   ]
  },
  {
   "cell_type": "markdown",
   "metadata": {},
   "source": [
    "### Output Interpretation & Troubleshooting\n",
    "\n",
    "* * <TODO:ADD> After the implementation"
   ]
  },
  {
   "cell_type": "markdown",
   "metadata": {},
   "source": [
    "# Step 5: View Current Forecast Outputs"
   ]
  },
  {
   "cell_type": "markdown",
   "metadata": {},
   "source": [
    "* **Description**: Lists all the outputs and metadata of all the previous steps of model building session to review again if necessary\n",
    "\n",
    "* **Inputs**: \n",
    "    * None    \n",
    "* **Outputs**:\n",
    "    * None "
   ]
  },
  {
   "cell_type": "code",
   "execution_count": null,
   "metadata": {
    "scrolled": false
   },
   "outputs": [],
   "source": [
    "# NO EDIT CELL\n",
    "current_session.list_outputs()"
   ]
  },
  {
   "cell_type": "markdown",
   "metadata": {},
   "source": [
    "# Step 6:  Publish Current Forecast Outputs"
   ]
  },
  {
   "cell_type": "markdown",
   "metadata": {},
   "source": [
    "* **Description**: Sets the forecast publish status and add text comments or questions on the model building session and logs this on MLFlow\n",
    "* **Inputs**: \n",
    "    * publish_status: bool\n",
    "        * true for publishing and false otherwise\n",
    "    * comments: str\n",
    "        * short note on key observations and questions on the model building session \n",
    "* **Outputs**:\n",
    "    * None \n",
    "    "
   ]
  },
  {
   "cell_type": "markdown",
   "metadata": {},
   "source": [
    "### Input Choice Tips\n",
    "\n",
    "* **publish_status**: choose true if the forecast generated seems good enough\n",
    "* **comments**: notes related to data, input choices, trends, questions on model choices. A detailed list of items to consider while reviewing the model building process is provided in ForecastModelReview.pdf <TODO:ADDLinks> "
   ]
  },
  {
   "cell_type": "code",
   "execution_count": null,
   "metadata": {},
   "outputs": [],
   "source": [
    "# EDIT CELL: SET INPUT VALUES AS REQUIRED\n",
    "\n",
    "# MANDATORY PARAMETERS \n",
    "current_session.set_field('publish_flag',True)\n",
    "\n",
    "# OPTIONAL PARAMETERS \n",
    "current_session.set_field('comments','all good so far')"
   ]
  },
  {
   "cell_type": "code",
   "execution_count": 16,
   "metadata": {},
   "outputs": [],
   "source": [
    "# NO EDIT CELL\n",
    "current_session.log_session()"
   ]
  },
  {
   "cell_type": "markdown",
   "metadata": {},
   "source": [
    "### Output Interpretation & Troubleshooting\n",
    "\n",
    "* <TODO:ADD> any MLFlow problems - e.g., if internet is slow or disconnected, what happens?"
   ]
  }
 ],
 "metadata": {
  "kernelspec": {
   "display_name": "Python 3",
   "language": "python",
   "name": "python3"
  },
  "language_info": {
   "codemirror_mode": {
    "name": "ipython",
    "version": 3
   },
   "file_extension": ".py",
   "mimetype": "text/x-python",
   "name": "python",
   "nbconvert_exporter": "python",
   "pygments_lexer": "ipython3",
   "version": "3.8.3"
  }
 },
 "nbformat": 4,
 "nbformat_minor": 4
}
